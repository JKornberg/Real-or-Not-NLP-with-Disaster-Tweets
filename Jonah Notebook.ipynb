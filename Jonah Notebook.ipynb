{
 "cells": [
  {
   "cell_type": "code",
   "execution_count": 1,
   "metadata": {},
   "outputs": [],
   "source": [
    "import pandas as pd\n",
    "import numpy as np"
   ]
  },
  {
   "cell_type": "code",
   "execution_count": 2,
   "metadata": {
    "scrolled": true
   },
   "outputs": [
    {
     "data": {
      "text/html": [
       "<div>\n",
       "<style scoped>\n",
       "    .dataframe tbody tr th:only-of-type {\n",
       "        vertical-align: middle;\n",
       "    }\n",
       "\n",
       "    .dataframe tbody tr th {\n",
       "        vertical-align: top;\n",
       "    }\n",
       "\n",
       "    .dataframe thead th {\n",
       "        text-align: right;\n",
       "    }\n",
       "</style>\n",
       "<table border=\"1\" class=\"dataframe\">\n",
       "  <thead>\n",
       "    <tr style=\"text-align: right;\">\n",
       "      <th></th>\n",
       "      <th>id</th>\n",
       "      <th>keyword</th>\n",
       "      <th>location</th>\n",
       "      <th>text</th>\n",
       "      <th>target</th>\n",
       "    </tr>\n",
       "  </thead>\n",
       "  <tbody>\n",
       "    <tr>\n",
       "      <td>0</td>\n",
       "      <td>1</td>\n",
       "      <td>NaN</td>\n",
       "      <td>NaN</td>\n",
       "      <td>Our Deeds are the Reason of this #earthquake M...</td>\n",
       "      <td>1</td>\n",
       "    </tr>\n",
       "    <tr>\n",
       "      <td>1</td>\n",
       "      <td>4</td>\n",
       "      <td>NaN</td>\n",
       "      <td>NaN</td>\n",
       "      <td>Forest fire near La Ronge Sask. Canada</td>\n",
       "      <td>1</td>\n",
       "    </tr>\n",
       "    <tr>\n",
       "      <td>2</td>\n",
       "      <td>5</td>\n",
       "      <td>NaN</td>\n",
       "      <td>NaN</td>\n",
       "      <td>All residents asked to 'shelter in place' are ...</td>\n",
       "      <td>1</td>\n",
       "    </tr>\n",
       "    <tr>\n",
       "      <td>3</td>\n",
       "      <td>6</td>\n",
       "      <td>NaN</td>\n",
       "      <td>NaN</td>\n",
       "      <td>13,000 people receive #wildfires evacuation or...</td>\n",
       "      <td>1</td>\n",
       "    </tr>\n",
       "    <tr>\n",
       "      <td>4</td>\n",
       "      <td>7</td>\n",
       "      <td>NaN</td>\n",
       "      <td>NaN</td>\n",
       "      <td>Just got sent this photo from Ruby #Alaska as ...</td>\n",
       "      <td>1</td>\n",
       "    </tr>\n",
       "  </tbody>\n",
       "</table>\n",
       "</div>"
      ],
      "text/plain": [
       "   id keyword location                                               text  \\\n",
       "0   1     NaN      NaN  Our Deeds are the Reason of this #earthquake M...   \n",
       "1   4     NaN      NaN             Forest fire near La Ronge Sask. Canada   \n",
       "2   5     NaN      NaN  All residents asked to 'shelter in place' are ...   \n",
       "3   6     NaN      NaN  13,000 people receive #wildfires evacuation or...   \n",
       "4   7     NaN      NaN  Just got sent this photo from Ruby #Alaska as ...   \n",
       "\n",
       "   target  \n",
       "0       1  \n",
       "1       1  \n",
       "2       1  \n",
       "3       1  \n",
       "4       1  "
      ]
     },
     "execution_count": 2,
     "metadata": {},
     "output_type": "execute_result"
    }
   ],
   "source": [
    "df = pd.read_csv('Data/train.csv')\n",
    "df.head()"
   ]
  },
  {
   "cell_type": "code",
   "execution_count": 3,
   "metadata": {},
   "outputs": [
    {
     "data": {
      "text/plain": [
       "'Our Deeds are the Reason of this #earthquake May ALLAH Forgive us all'"
      ]
     },
     "execution_count": 3,
     "metadata": {},
     "output_type": "execute_result"
    }
   ],
   "source": [
    "df.loc[0]['text']"
   ]
  },
  {
   "cell_type": "code",
   "execution_count": 4,
   "metadata": {},
   "outputs": [
    {
     "data": {
      "text/html": [
       "<div>\n",
       "<style scoped>\n",
       "    .dataframe tbody tr th:only-of-type {\n",
       "        vertical-align: middle;\n",
       "    }\n",
       "\n",
       "    .dataframe tbody tr th {\n",
       "        vertical-align: top;\n",
       "    }\n",
       "\n",
       "    .dataframe thead th {\n",
       "        text-align: right;\n",
       "    }\n",
       "</style>\n",
       "<table border=\"1\" class=\"dataframe\">\n",
       "  <thead>\n",
       "    <tr style=\"text-align: right;\">\n",
       "      <th></th>\n",
       "      <th>target</th>\n",
       "      <th>text</th>\n",
       "    </tr>\n",
       "  </thead>\n",
       "  <tbody>\n",
       "    <tr>\n",
       "      <td>7608</td>\n",
       "      <td>1</td>\n",
       "      <td>Two giant cranes holding a bridge collapse int...</td>\n",
       "    </tr>\n",
       "    <tr>\n",
       "      <td>7609</td>\n",
       "      <td>1</td>\n",
       "      <td>@aria_ahrary @TheTawniest The out of control w...</td>\n",
       "    </tr>\n",
       "    <tr>\n",
       "      <td>7610</td>\n",
       "      <td>1</td>\n",
       "      <td>M1.94 [01:04 UTC]?5km S of Volcano Hawaii. htt...</td>\n",
       "    </tr>\n",
       "    <tr>\n",
       "      <td>7611</td>\n",
       "      <td>1</td>\n",
       "      <td>Police investigating after an e-bike collided ...</td>\n",
       "    </tr>\n",
       "    <tr>\n",
       "      <td>7612</td>\n",
       "      <td>1</td>\n",
       "      <td>The Latest: More Homes Razed by Northern Calif...</td>\n",
       "    </tr>\n",
       "  </tbody>\n",
       "</table>\n",
       "</div>"
      ],
      "text/plain": [
       "      target                                               text\n",
       "7608       1  Two giant cranes holding a bridge collapse int...\n",
       "7609       1  @aria_ahrary @TheTawniest The out of control w...\n",
       "7610       1  M1.94 [01:04 UTC]?5km S of Volcano Hawaii. htt...\n",
       "7611       1  Police investigating after an e-bike collided ...\n",
       "7612       1  The Latest: More Homes Razed by Northern Calif..."
      ]
     },
     "execution_count": 4,
     "metadata": {},
     "output_type": "execute_result"
    }
   ],
   "source": [
    "from io import StringIO\n",
    "col = ['target', 'text']\n",
    "df = df[col]\n",
    "df.tail()"
   ]
  },
  {
   "cell_type": "code",
   "execution_count": 5,
   "metadata": {},
   "outputs": [
    {
     "data": {
      "text/html": [
       "<div>\n",
       "<style scoped>\n",
       "    .dataframe tbody tr th:only-of-type {\n",
       "        vertical-align: middle;\n",
       "    }\n",
       "\n",
       "    .dataframe tbody tr th {\n",
       "        vertical-align: top;\n",
       "    }\n",
       "\n",
       "    .dataframe thead th {\n",
       "        text-align: right;\n",
       "    }\n",
       "</style>\n",
       "<table border=\"1\" class=\"dataframe\">\n",
       "  <thead>\n",
       "    <tr style=\"text-align: right;\">\n",
       "      <th></th>\n",
       "      <th>target</th>\n",
       "      <th>text</th>\n",
       "    </tr>\n",
       "  </thead>\n",
       "  <tbody>\n",
       "    <tr>\n",
       "      <td>0</td>\n",
       "      <td>1</td>\n",
       "      <td>Our Deeds are the Reason of this #earthquake M...</td>\n",
       "    </tr>\n",
       "    <tr>\n",
       "      <td>1</td>\n",
       "      <td>1</td>\n",
       "      <td>Forest fire near La Ronge Sask. Canada</td>\n",
       "    </tr>\n",
       "    <tr>\n",
       "      <td>2</td>\n",
       "      <td>1</td>\n",
       "      <td>All residents asked to 'shelter in place' are ...</td>\n",
       "    </tr>\n",
       "    <tr>\n",
       "      <td>3</td>\n",
       "      <td>1</td>\n",
       "      <td>13,000 people receive #wildfires evacuation or...</td>\n",
       "    </tr>\n",
       "    <tr>\n",
       "      <td>4</td>\n",
       "      <td>1</td>\n",
       "      <td>Just got sent this photo from Ruby #Alaska as ...</td>\n",
       "    </tr>\n",
       "  </tbody>\n",
       "</table>\n",
       "</div>"
      ],
      "text/plain": [
       "   target                                               text\n",
       "0       1  Our Deeds are the Reason of this #earthquake M...\n",
       "1       1             Forest fire near La Ronge Sask. Canada\n",
       "2       1  All residents asked to 'shelter in place' are ...\n",
       "3       1  13,000 people receive #wildfires evacuation or...\n",
       "4       1  Just got sent this photo from Ruby #Alaska as ..."
      ]
     },
     "execution_count": 5,
     "metadata": {},
     "output_type": "execute_result"
    }
   ],
   "source": [
    "df.columns = ['target', 'text']\n",
    "target_df = df[['text', 'target']].drop_duplicates().sort_values('target')\n",
    "target_dict = dict(target_df.values)\n",
    "df.head()"
   ]
  },
  {
   "cell_type": "code",
   "execution_count": 6,
   "metadata": {},
   "outputs": [
    {
     "data": {
      "text/plain": [
       "<Figure size 800x600 with 1 Axes>"
      ]
     },
     "metadata": {},
     "output_type": "display_data"
    }
   ],
   "source": [
    "import matplotlib.pyplot as plt\n",
    "fig = plt.figure(figsize=(8,6))\n",
    "df.groupby('target').text.count().plot.bar(ylim=0)\n",
    "plt.show()"
   ]
  },
  {
   "cell_type": "code",
   "execution_count": 7,
   "metadata": {},
   "outputs": [
    {
     "data": {
      "text/plain": [
       "(7613, 3623)"
      ]
     },
     "execution_count": 7,
     "metadata": {},
     "output_type": "execute_result"
    }
   ],
   "source": [
    "from sklearn.feature_extraction.text import TfidfVectorizer\n",
    "tfidf = TfidfVectorizer(sublinear_tf=True, min_df=5, norm='l2', encoding='latin-1', ngram_range=(1, 2), stop_words='english')\n",
    "features = tfidf.fit_transform(df.text).toarray()\n",
    "labels = df.target\n",
    "features.shape"
   ]
  },
  {
   "cell_type": "code",
   "execution_count": 8,
   "metadata": {},
   "outputs": [
    {
     "name": "stdout",
     "output_type": "stream",
     "text": [
      "# '0':\n",
      "  . Most correlated unigrams:\n",
      ". hiroshima\n",
      ". california\n",
      "  . Most correlated bigrams:\n",
      ". suicide bombing\n",
      ". suicide bomber\n",
      "# '1':\n",
      "  . Most correlated unigrams:\n",
      ". hiroshima\n",
      ". california\n",
      "  . Most correlated bigrams:\n",
      ". suicide bombing\n",
      ". suicide bomber\n"
     ]
    }
   ],
   "source": [
    "from sklearn.feature_selection import chi2\n",
    "N = 2\n",
    "for target in [0,1]:\n",
    "  features_chi2 = chi2(features, labels == target)\n",
    "  indices = np.argsort(features_chi2[0])\n",
    "  feature_names = np.array(tfidf.get_feature_names())[indices]\n",
    "  unigrams = [v for v in feature_names if len(v.split(' ')) == 1]\n",
    "  bigrams = [v for v in feature_names if len(v.split(' ')) == 2]\n",
    "  print(\"# '{}':\".format(target))\n",
    "  print(\"  . Most correlated unigrams:\\n. {}\".format('\\n. '.join(unigrams[-N:])))\n",
    "  print(\"  . Most correlated bigrams:\\n. {}\".format('\\n. '.join(bigrams[-N:])))"
   ]
  },
  {
   "cell_type": "code",
   "execution_count": 9,
   "metadata": {},
   "outputs": [
    {
     "name": "stderr",
     "output_type": "stream",
     "text": [
      "C:\\Users\\Quack\\Anaconda3\\lib\\site-packages\\sklearn\\linear_model\\logistic.py:432: FutureWarning: Default solver will be changed to 'lbfgs' in 0.22. Specify a solver to silence this warning.\n",
      "  FutureWarning)\n",
      "C:\\Users\\Quack\\Anaconda3\\lib\\site-packages\\sklearn\\linear_model\\logistic.py:432: FutureWarning: Default solver will be changed to 'lbfgs' in 0.22. Specify a solver to silence this warning.\n",
      "  FutureWarning)\n",
      "C:\\Users\\Quack\\Anaconda3\\lib\\site-packages\\sklearn\\linear_model\\logistic.py:432: FutureWarning: Default solver will be changed to 'lbfgs' in 0.22. Specify a solver to silence this warning.\n",
      "  FutureWarning)\n",
      "C:\\Users\\Quack\\Anaconda3\\lib\\site-packages\\sklearn\\linear_model\\logistic.py:432: FutureWarning: Default solver will be changed to 'lbfgs' in 0.22. Specify a solver to silence this warning.\n",
      "  FutureWarning)\n",
      "C:\\Users\\Quack\\Anaconda3\\lib\\site-packages\\sklearn\\linear_model\\logistic.py:432: FutureWarning: Default solver will be changed to 'lbfgs' in 0.22. Specify a solver to silence this warning.\n",
      "  FutureWarning)\n"
     ]
    },
    {
     "data": {
      "image/png": "[encoded data removed]",
      "text/plain": [
       "<Figure size 432x288 with 1 Axes>"
      ]
     },
     "metadata": {
      "needs_background": "light"
     },
     "output_type": "display_data"
    }
   ],
   "source": [
    "from sklearn.linear_model import LogisticRegression\n",
    "from sklearn.ensemble import RandomForestClassifier\n",
    "from sklearn.svm import LinearSVC\n",
    "from sklearn.naive_bayes import MultinomialNB\n",
    "from sklearn.tree import DecisionTreeClassifier\n",
    "from sklearn.feature_extraction.text import CountVectorizer\n",
    "from sklearn.feature_extraction.text import TfidfTransformer\n",
    "from sklearn.model_selection import cross_val_score\n",
    "import timeit\n",
    "\n",
    "models = [\n",
    "    RandomForestClassifier(n_estimators=200, max_depth=3, random_state=0),\n",
    "    LinearSVC(),\n",
    "    MultinomialNB(),\n",
    "    LogisticRegression(random_state=0),\n",
    "    DecisionTreeClassifier()\n",
    "]\n",
    "CV = 5\n",
    "cv_df = pd.DataFrame(index=range(CV * len(models)))\n",
    "entries = []\n",
    "for model in models:\n",
    "  if model.__class__.__name__ == 'RandomForestClassifier':\n",
    "      model_name = 'RF'\n",
    "  elif model.__class__.__name__ == 'LinearSVC':\n",
    "      model_name = 'SVC'\n",
    "  elif model.__class__.__name__ == 'MultinomialNB':\n",
    "      model_name = 'MNB'\n",
    "  elif model.__class__.__name__ == 'LogisticRegression':\n",
    "      model_name = 'LR'\n",
    "  elif model.__class__.__name__ == 'DecisionTreeClassifier':\n",
    "      model_name = 'DT'\n",
    "  accuracies = cross_val_score(model, features, labels, scoring='accuracy', cv=CV)\n",
    "  for fold_idx, accuracy in enumerate(accuracies):\n",
    "    entries.append((model_name, fold_idx, accuracy))\n",
    "cv_df = pd.DataFrame(entries, columns=['Model', 'fold_idx', 'Accuracy'])\n",
    "import seaborn as sns\n",
    "sns.boxplot(x='Model', y='Accuracy', data=cv_df)\n",
    "sns.stripplot(x='Model', y='Accuracy', data=cv_df, \n",
    "              size=8, jitter=True, edgecolor=\"gray\", linewidth=2)\n",
    "plt.title('Model Accuracy')\n",
    "plt.show()\n",
    "count_vect = CountVectorizer()\n",
    "tfidf_transformer = TfidfTransformer()"
   ]
  },
  {
   "cell_type": "code",
   "execution_count": 12,
   "metadata": {},
   "outputs": [
    {
     "data": {
      "text/plain": [
       "Model\n",
       "DT     0.611974\n",
       "LR     0.683439\n",
       "MNB    0.709059\n",
       "RF     0.571917\n",
       "SVC    0.651647\n",
       "Name: Accuracy, dtype: float64"
      ]
     },
     "execution_count": 12,
     "metadata": {},
     "output_type": "execute_result"
    }
   ],
   "source": [
    "cv_df.groupby('Model').Accuracy.mean()"
   ]
  },
  {
   "cell_type": "code",
   "execution_count": 13,
   "metadata": {},
   "outputs": [],
   "source": [
    "test_df = pd.read_csv('Data/test.csv')"
   ]
  },
  {
   "cell_type": "code",
   "execution_count": 14,
   "metadata": {},
   "outputs": [],
   "source": [
    "trainCounts = count_vect.fit_transform(df['text'])\n",
    "X_train_tfidf = tfidf_transformer.fit_transform(trainCounts)"
   ]
  },
  {
   "cell_type": "code",
   "execution_count": 15,
   "metadata": {
    "scrolled": true
   },
   "outputs": [
    {
     "name": "stderr",
     "output_type": "stream",
     "text": [
      "C:\\Users\\Quack\\Anaconda3\\lib\\site-packages\\ipykernel_launcher.py:17: SettingWithCopyWarning: \n",
      "A value is trying to be set on a copy of a slice from a DataFrame.\n",
      "Try using .loc[row_indexer,col_indexer] = value instead\n",
      "\n",
      "See the caveats in the documentation: http://pandas.pydata.org/pandas-docs/stable/user_guide/indexing.html#returning-a-view-versus-a-copy\n",
      "C:\\Users\\Quack\\Anaconda3\\lib\\site-packages\\ipykernel_launcher.py:19: SettingWithCopyWarning: \n",
      "A value is trying to be set on a copy of a slice from a DataFrame.\n",
      "Try using .loc[row_indexer,col_indexer] = value instead\n",
      "\n",
      "See the caveats in the documentation: http://pandas.pydata.org/pandas-docs/stable/user_guide/indexing.html#returning-a-view-versus-a-copy\n",
      "C:\\Users\\Quack\\Anaconda3\\lib\\site-packages\\ipykernel_launcher.py:17: SettingWithCopyWarning: \n",
      "A value is trying to be set on a copy of a slice from a DataFrame.\n",
      "Try using .loc[row_indexer,col_indexer] = value instead\n",
      "\n",
      "See the caveats in the documentation: http://pandas.pydata.org/pandas-docs/stable/user_guide/indexing.html#returning-a-view-versus-a-copy\n",
      "C:\\Users\\Quack\\Anaconda3\\lib\\site-packages\\ipykernel_launcher.py:19: SettingWithCopyWarning: \n",
      "A value is trying to be set on a copy of a slice from a DataFrame.\n",
      "Try using .loc[row_indexer,col_indexer] = value instead\n",
      "\n",
      "See the caveats in the documentation: http://pandas.pydata.org/pandas-docs/stable/user_guide/indexing.html#returning-a-view-versus-a-copy\n",
      "C:\\Users\\Quack\\Anaconda3\\lib\\site-packages\\sklearn\\linear_model\\logistic.py:432: FutureWarning: Default solver will be changed to 'lbfgs' in 0.22. Specify a solver to silence this warning.\n",
      "  FutureWarning)\n",
      "C:\\Users\\Quack\\Anaconda3\\lib\\site-packages\\ipykernel_launcher.py:17: SettingWithCopyWarning: \n",
      "A value is trying to be set on a copy of a slice from a DataFrame.\n",
      "Try using .loc[row_indexer,col_indexer] = value instead\n",
      "\n",
      "See the caveats in the documentation: http://pandas.pydata.org/pandas-docs/stable/user_guide/indexing.html#returning-a-view-versus-a-copy\n",
      "C:\\Users\\Quack\\Anaconda3\\lib\\site-packages\\ipykernel_launcher.py:19: SettingWithCopyWarning: \n",
      "A value is trying to be set on a copy of a slice from a DataFrame.\n",
      "Try using .loc[row_indexer,col_indexer] = value instead\n",
      "\n",
      "See the caveats in the documentation: http://pandas.pydata.org/pandas-docs/stable/user_guide/indexing.html#returning-a-view-versus-a-copy\n"
     ]
    }
   ],
   "source": [
    "import timeit\n",
    "\n",
    "iterated_run_times = []\n",
    "run_times = []\n",
    "for model in models:\n",
    "    model_name = model.__class__.__name__\n",
    "    clf = model.fit(X_train_tfidf, labels)\n",
    "    solution_df = test_df[['id']]\n",
    "    if model_name != 'RandomForestClassifier': # takes too long!\n",
    "        for i in range(0, 50):\n",
    "                start = timeit.default_timer()\n",
    "                for j in range(0, len(test_df)):\n",
    "                    text = [test_df['text'][j]]\n",
    "                    clf.predict(count_vect.transform(text))\n",
    "                iterated_run_times.append([model_name, timeit.default_timer()-start])\n",
    "    start = timeit.default_timer()\n",
    "    solution_df['target'] = test_df.apply(lambda row : clf.predict(count_vect.transform([row['text']])), axis = 1)\n",
    "    run_times.append((model_name,timeit.default_timer()-start))\n",
    "    solution_df['target'] = solution_df.apply(lambda row : row['target'][0], axis=1)\n",
    "    solution_df.to_csv('Data/preds_'+model_name +'.csv', index= False)"
   ]
  },
  {
   "cell_type": "code",
   "execution_count": 16,
   "metadata": {},
   "outputs": [
    {
     "data": {
      "text/html": [
       "<div>\n",
       "<style scoped>\n",
       "    .dataframe tbody tr th:only-of-type {\n",
       "        vertical-align: middle;\n",
       "    }\n",
       "\n",
       "    .dataframe tbody tr th {\n",
       "        vertical-align: top;\n",
       "    }\n",
       "\n",
       "    .dataframe thead th {\n",
       "        text-align: right;\n",
       "    }\n",
       "</style>\n",
       "<table border=\"1\" class=\"dataframe\">\n",
       "  <thead>\n",
       "    <tr style=\"text-align: right;\">\n",
       "      <th></th>\n",
       "      <th>Model</th>\n",
       "      <th>Runtime</th>\n",
       "    </tr>\n",
       "  </thead>\n",
       "  <tbody>\n",
       "    <tr>\n",
       "      <td>4</td>\n",
       "      <td>RF</td>\n",
       "      <td>35.737853</td>\n",
       "    </tr>\n",
       "    <tr>\n",
       "      <td>3</td>\n",
       "      <td>SVC</td>\n",
       "      <td>0.757430</td>\n",
       "    </tr>\n",
       "    <tr>\n",
       "      <td>2</td>\n",
       "      <td>MNB</td>\n",
       "      <td>1.174582</td>\n",
       "    </tr>\n",
       "    <tr>\n",
       "      <td>1</td>\n",
       "      <td>LR</td>\n",
       "      <td>0.766290</td>\n",
       "    </tr>\n",
       "    <tr>\n",
       "      <td>0</td>\n",
       "      <td>DT</td>\n",
       "      <td>0.976166</td>\n",
       "    </tr>\n",
       "  </tbody>\n",
       "</table>\n",
       "</div>"
      ],
      "text/plain": [
       "  Model    Runtime\n",
       "4    RF  35.737853\n",
       "3   SVC   0.757430\n",
       "2   MNB   1.174582\n",
       "1    LR   0.766290\n",
       "0    DT   0.976166"
      ]
     },
     "execution_count": 16,
     "metadata": {},
     "output_type": "execute_result"
    }
   ],
   "source": [
    "rt_df = pd.DataFrame(columns=['Model','Runtime'])\n",
    "for t in run_times:\n",
    "    if t[0] == 'LinearSVC':\n",
    "        rt_df.loc[-1] = ['SVC', t[1]]\n",
    "    elif t[0] == 'MultinomialNB':\n",
    "        rt_df.loc[-1] = ['MNB', t[1]]\n",
    "    elif t[0] == 'LogisticRegression':\n",
    "        rt_df.loc[-1] = ['LR', t[1]]\n",
    "    elif t[0] == 'DecisionTreeClassifier':\n",
    "        rt_df.loc[-1] = ['DT', t[1]]\n",
    "    else:\n",
    "        rt_df.loc[-1] = ['RF', t[1]]\n",
    "    rt_df.index += 1\n",
    "rt_df"
   ]
  },
  {
   "cell_type": "code",
   "execution_count": 17,
   "metadata": {},
   "outputs": [
    {
     "data": {
      "text/plain": [
       "Text(0.5, 1.0, 'Model Runtimes')"
      ]
     },
     "execution_count": 17,
     "metadata": {},
     "output_type": "execute_result"
    },
    {
     "data": {
      "image/png": "[encoded data removed]",
      "text/plain": [
       "<Figure size 432x288 with 1 Axes>"
      ]
     },
     "metadata": {
      "needs_background": "light"
     },
     "output_type": "display_data"
    }
   ],
   "source": [
    "sns.barplot(x='Model',y='Runtime',data=rt_df)\n",
    "plt.title('Model Runtimes')"
   ]
  },
  {
   "cell_type": "code",
   "execution_count": 18,
   "metadata": {},
   "outputs": [
    {
     "data": {
      "text/plain": [
       "[['LinearSVC', 0.4731992999999761],\n",
       " ['LinearSVC', 0.4704034999999749],\n",
       " ['LinearSVC', 0.4693586999999866],\n",
       " ['LinearSVC', 0.4673058999999853],\n",
       " ['LinearSVC', 0.4674889000000064],\n",
       " ['LinearSVC', 0.46268690000002266],\n",
       " ['LinearSVC', 0.46577400000001035],\n",
       " ['LinearSVC', 0.46685560000000237],\n",
       " ['LinearSVC', 0.46534809999999993],\n",
       " ['LinearSVC', 0.4696189000000004],\n",
       " ['LinearSVC', 0.46841960000000427],\n",
       " ['LinearSVC', 0.4762704000000042],\n",
       " ['LinearSVC', 0.48069889999999305],\n",
       " ['LinearSVC', 0.4816840999999954],\n",
       " ['LinearSVC', 0.4796660000000088],\n",
       " ['LinearSVC', 0.4809774999999945],\n",
       " ['LinearSVC', 0.47571360000000595],\n",
       " ['LinearSVC', 0.4735700999999892],\n",
       " ['LinearSVC', 0.46602020000000266],\n",
       " ['LinearSVC', 0.4709469000000013],\n",
       " ['LinearSVC', 0.4761884000000123],\n",
       " ['LinearSVC', 0.4794763999999816],\n",
       " ['LinearSVC', 0.47744079999998235],\n",
       " ['LinearSVC', 0.47859780000001706],\n",
       " ['LinearSVC', 0.49929259999998976],\n",
       " ['LinearSVC', 0.4907006999999908],\n",
       " ['LinearSVC', 0.48346129999998766],\n",
       " ['LinearSVC', 0.47335380000001237],\n",
       " ['LinearSVC', 0.4693694999999991],\n",
       " ['LinearSVC', 0.4683514000000173],\n",
       " ['LinearSVC', 0.4681673999999987],\n",
       " ['LinearSVC', 0.46637020000000007],\n",
       " ['LinearSVC', 0.4686222999999927],\n",
       " ['LinearSVC', 0.4750389000000155],\n",
       " ['LinearSVC', 0.4702114000000108],\n",
       " ['LinearSVC', 0.4664584000000218],\n",
       " ['LinearSVC', 0.46499900000000594],\n",
       " ['LinearSVC', 0.46478920000001267],\n",
       " ['LinearSVC', 0.4664466000000118],\n",
       " ['LinearSVC', 0.46718490000000656],\n",
       " ['LinearSVC', 0.46723670000000084],\n",
       " ['LinearSVC', 0.4710381999999811],\n",
       " ['LinearSVC', 0.4736288000000002],\n",
       " ['LinearSVC', 0.4662313999999981],\n",
       " ['LinearSVC', 0.4690360000000169],\n",
       " ['LinearSVC', 0.469553899999994],\n",
       " ['LinearSVC', 0.46527150000000006],\n",
       " ['LinearSVC', 0.4661734000000024],\n",
       " ['LinearSVC', 0.4707435999999916],\n",
       " ['LinearSVC', 0.47376310000001354],\n",
       " ['MultinomialNB', 0.7863841999999863],\n",
       " ['MultinomialNB', 0.7851612999999986],\n",
       " ['MultinomialNB', 0.7777025000000037],\n",
       " ['MultinomialNB', 0.7785142000000178],\n",
       " ['MultinomialNB', 0.7781404000000123],\n",
       " ['MultinomialNB', 0.7812763000000018],\n",
       " ['MultinomialNB', 0.780753500000003],\n",
       " ['MultinomialNB', 0.7850806000000148],\n",
       " ['MultinomialNB', 0.7906071000000168],\n",
       " ['MultinomialNB', 0.7972276000000136],\n",
       " ['MultinomialNB', 0.7963635999999781],\n",
       " ['MultinomialNB', 0.7928033999999968],\n",
       " ['MultinomialNB', 0.7848258999999871],\n",
       " ['MultinomialNB', 0.7782947999999976],\n",
       " ['MultinomialNB', 0.7776406000000122],\n",
       " ['MultinomialNB', 0.7834765000000061],\n",
       " ['MultinomialNB', 0.7823970999999972],\n",
       " ['MultinomialNB', 0.7874367000000007],\n",
       " ['MultinomialNB', 0.7850923000000023],\n",
       " ['MultinomialNB', 0.7839000000000169],\n",
       " ['MultinomialNB', 0.785969399999999],\n",
       " ['MultinomialNB', 0.7780863000000124],\n",
       " ['MultinomialNB', 0.7769506999999862],\n",
       " ['MultinomialNB', 0.788578699999988],\n",
       " ['MultinomialNB', 0.7841334000000018],\n",
       " ['MultinomialNB', 0.7837446999999997],\n",
       " ['MultinomialNB', 0.780764099999999],\n",
       " ['MultinomialNB', 0.7843333000000143],\n",
       " ['MultinomialNB', 0.7823904000000255],\n",
       " ['MultinomialNB', 0.7874668999999983],\n",
       " ['MultinomialNB', 0.8016292000000078],\n",
       " ['MultinomialNB', 0.8007151000000192],\n",
       " ['MultinomialNB', 0.7909311999999886],\n",
       " ['MultinomialNB', 0.7984016999999994],\n",
       " ['MultinomialNB', 0.806251599999996],\n",
       " ['MultinomialNB', 0.8062740000000019],\n",
       " ['MultinomialNB', 0.7839562999999998],\n",
       " ['MultinomialNB', 0.7772491000000059],\n",
       " ['MultinomialNB', 0.7856839000000093],\n",
       " ['MultinomialNB', 0.7859807000000103],\n",
       " ['MultinomialNB', 0.7855471000000023],\n",
       " ['MultinomialNB', 0.7854561999999987],\n",
       " ['MultinomialNB', 0.7803992999999991],\n",
       " ['MultinomialNB', 0.77801070000001],\n",
       " ['MultinomialNB', 0.7827217999999903],\n",
       " ['MultinomialNB', 0.790561600000018],\n",
       " ['MultinomialNB', 0.7827311000000066],\n",
       " ['MultinomialNB', 0.7768132999999864],\n",
       " ['MultinomialNB', 0.7811887000000013],\n",
       " ['MultinomialNB', 0.7923497999999825],\n",
       " ['LogisticRegression', 0.4858964999999955],\n",
       " ['LogisticRegression', 0.4756780999999819],\n",
       " ['LogisticRegression', 0.4737659999999835],\n",
       " ['LogisticRegression', 0.47205559999997604],\n",
       " ['LogisticRegression', 0.47894069999998123],\n",
       " ['LogisticRegression', 0.4704732000000149],\n",
       " ['LogisticRegression', 0.48776900000001433],\n",
       " ['LogisticRegression', 0.5093401000000028],\n",
       " ['LogisticRegression', 0.4859685999999783],\n",
       " ['LogisticRegression', 0.48026830000000587],\n",
       " ['LogisticRegression', 0.4768061999999986],\n",
       " ['LogisticRegression', 0.4800936999999976],\n",
       " ['LogisticRegression', 0.4734247000000096],\n",
       " ['LogisticRegression', 0.4690998000000093],\n",
       " ['LogisticRegression', 0.46915809999998714],\n",
       " ['LogisticRegression', 0.46980990000000133],\n",
       " ['LogisticRegression', 0.46763469999999074],\n",
       " ['LogisticRegression', 0.47094379999998637],\n",
       " ['LogisticRegression', 0.4666680999999926],\n",
       " ['LogisticRegression', 0.4660733999999991],\n",
       " ['LogisticRegression', 0.4708093000000133],\n",
       " ['LogisticRegression', 0.4734687000000122],\n",
       " ['LogisticRegression', 0.4703469000000098],\n",
       " ['LogisticRegression', 0.47157020000000216],\n",
       " ['LogisticRegression', 0.4658847000000037],\n",
       " ['LogisticRegression', 0.4708927000000074],\n",
       " ['LogisticRegression', 0.4732309999999984],\n",
       " ['LogisticRegression', 0.505836099999982],\n",
       " ['LogisticRegression', 0.5075118999999972],\n",
       " ['LogisticRegression', 0.4851603000000182],\n",
       " ['LogisticRegression', 0.4785434000000066],\n",
       " ['LogisticRegression', 0.4713955999999939],\n",
       " ['LogisticRegression', 0.4687347999999929],\n",
       " ['LogisticRegression', 0.47123790000000554],\n",
       " ['LogisticRegression', 0.4701836000000128],\n",
       " ['LogisticRegression', 0.47413660000000846],\n",
       " ['LogisticRegression', 0.47464089999999715],\n",
       " ['LogisticRegression', 0.4708712000000048],\n",
       " ['LogisticRegression', 0.4755862000000093],\n",
       " ['LogisticRegression', 0.47008089999999925],\n",
       " ['LogisticRegression', 0.47424970000000144],\n",
       " ['LogisticRegression', 0.4715771999999845],\n",
       " ['LogisticRegression', 0.4761269999999911],\n",
       " ['LogisticRegression', 0.4752300000000105],\n",
       " ['LogisticRegression', 0.4736849000000234],\n",
       " ['LogisticRegression', 0.47753069999998843],\n",
       " ['LogisticRegression', 0.469147200000009],\n",
       " ['LogisticRegression', 0.47323829999999134],\n",
       " ['LogisticRegression', 0.4729436000000078],\n",
       " ['LogisticRegression', 0.47487610000001723],\n",
       " ['DecisionTreeClassifier', 0.6935947999999712],\n",
       " ['DecisionTreeClassifier', 0.6921717999999828],\n",
       " ['DecisionTreeClassifier', 0.6796689000000242],\n",
       " ['DecisionTreeClassifier', 0.6764728999999647],\n",
       " ['DecisionTreeClassifier', 0.6747323000000165],\n",
       " ['DecisionTreeClassifier', 0.676502400000004],\n",
       " ['DecisionTreeClassifier', 0.6785209999999893],\n",
       " ['DecisionTreeClassifier', 0.6765593000000081],\n",
       " ['DecisionTreeClassifier', 0.682205300000021],\n",
       " ['DecisionTreeClassifier', 0.677629799999977],\n",
       " ['DecisionTreeClassifier', 0.6755330999999956],\n",
       " ['DecisionTreeClassifier', 0.6836210999999821],\n",
       " ['DecisionTreeClassifier', 0.678402799999958],\n",
       " ['DecisionTreeClassifier', 0.6760445000000459],\n",
       " ['DecisionTreeClassifier', 0.6748031999999853],\n",
       " ['DecisionTreeClassifier', 0.6808943999999997],\n",
       " ['DecisionTreeClassifier', 0.6767454000000157],\n",
       " ['DecisionTreeClassifier', 0.6713802000000442],\n",
       " ['DecisionTreeClassifier', 0.6740579000000366],\n",
       " ['DecisionTreeClassifier', 0.6753040000000397],\n",
       " ['DecisionTreeClassifier', 0.6836599999999748],\n",
       " ['DecisionTreeClassifier', 0.6959886999999867],\n",
       " ['DecisionTreeClassifier', 0.7002071000000001],\n",
       " ['DecisionTreeClassifier', 0.693273300000044],\n",
       " ['DecisionTreeClassifier', 0.688087199999984],\n",
       " ['DecisionTreeClassifier', 0.6891286000000036],\n",
       " ['DecisionTreeClassifier', 0.6843433000000232],\n",
       " ['DecisionTreeClassifier', 0.679098300000021],\n",
       " ['DecisionTreeClassifier', 0.6793910999999753],\n",
       " ['DecisionTreeClassifier', 0.6800703000000112],\n",
       " ['DecisionTreeClassifier', 0.6805769000000055],\n",
       " ['DecisionTreeClassifier', 0.6746871999999939],\n",
       " ['DecisionTreeClassifier', 0.6785444000000211],\n",
       " ['DecisionTreeClassifier', 0.6765993000000208],\n",
       " ['DecisionTreeClassifier', 0.6740924000000064],\n",
       " ['DecisionTreeClassifier', 0.6708120999999778],\n",
       " ['DecisionTreeClassifier', 0.6740209000000164],\n",
       " ['DecisionTreeClassifier', 0.6737304000000108],\n",
       " ['DecisionTreeClassifier', 0.680819500000041],\n",
       " ['DecisionTreeClassifier', 0.6763106999999877],\n",
       " ['DecisionTreeClassifier', 0.6733796999999981],\n",
       " ['DecisionTreeClassifier', 0.6733060999999907],\n",
       " ['DecisionTreeClassifier', 0.6712673999999765],\n",
       " ['DecisionTreeClassifier', 0.6835762000000045],\n",
       " ['DecisionTreeClassifier', 0.6838261999999986],\n",
       " ['DecisionTreeClassifier', 0.6937964999999622],\n",
       " ['DecisionTreeClassifier', 0.6975949999999784],\n",
       " ['DecisionTreeClassifier', 0.695931900000005],\n",
       " ['DecisionTreeClassifier', 0.6932004000000234],\n",
       " ['DecisionTreeClassifier', 0.6797909000000004]]"
      ]
     },
     "execution_count": 18,
     "metadata": {},
     "output_type": "execute_result"
    }
   ],
   "source": [
    "iterated_run_times"
   ]
  },
  {
   "cell_type": "code",
   "execution_count": 19,
   "metadata": {},
   "outputs": [],
   "source": [
    "irt_df = pd.DataFrame(columns=['Model','Runtime'])\n",
    "for l in iterated_run_times:\n",
    "    if l[0] == 'LinearSVC':\n",
    "        irt_df.loc[-1] = ['SVC', l[1]]\n",
    "    elif l[0] == 'MultinomialNB':\n",
    "        irt_df.loc[-1] = ['MNB', l[1]]\n",
    "    elif l[0] == 'LogisticRegression':\n",
    "        irt_df.loc[-1] = ['LR', l[1]]\n",
    "    else:\n",
    "        irt_df.loc[-1] = ['DT', l[1]]\n",
    "    irt_df.index += 1"
   ]
  },
  {
   "cell_type": "code",
   "execution_count": 20,
   "metadata": {},
   "outputs": [
    {
     "data": {
      "text/html": [
       "<div>\n",
       "<style scoped>\n",
       "    .dataframe tbody tr th:only-of-type {\n",
       "        vertical-align: middle;\n",
       "    }\n",
       "\n",
       "    .dataframe tbody tr th {\n",
       "        vertical-align: top;\n",
       "    }\n",
       "\n",
       "    .dataframe thead th {\n",
       "        text-align: right;\n",
       "    }\n",
       "</style>\n",
       "<table border=\"1\" class=\"dataframe\">\n",
       "  <thead>\n",
       "    <tr style=\"text-align: right;\">\n",
       "      <th></th>\n",
       "      <th>Model</th>\n",
       "      <th>Runtime</th>\n",
       "    </tr>\n",
       "  </thead>\n",
       "  <tbody>\n",
       "    <tr>\n",
       "      <td>199</td>\n",
       "      <td>SVC</td>\n",
       "      <td>0.473199</td>\n",
       "    </tr>\n",
       "    <tr>\n",
       "      <td>198</td>\n",
       "      <td>SVC</td>\n",
       "      <td>0.470403</td>\n",
       "    </tr>\n",
       "    <tr>\n",
       "      <td>197</td>\n",
       "      <td>SVC</td>\n",
       "      <td>0.469359</td>\n",
       "    </tr>\n",
       "    <tr>\n",
       "      <td>196</td>\n",
       "      <td>SVC</td>\n",
       "      <td>0.467306</td>\n",
       "    </tr>\n",
       "    <tr>\n",
       "      <td>195</td>\n",
       "      <td>SVC</td>\n",
       "      <td>0.467489</td>\n",
       "    </tr>\n",
       "    <tr>\n",
       "      <td>...</td>\n",
       "      <td>...</td>\n",
       "      <td>...</td>\n",
       "    </tr>\n",
       "    <tr>\n",
       "      <td>4</td>\n",
       "      <td>DT</td>\n",
       "      <td>0.693796</td>\n",
       "    </tr>\n",
       "    <tr>\n",
       "      <td>3</td>\n",
       "      <td>DT</td>\n",
       "      <td>0.697595</td>\n",
       "    </tr>\n",
       "    <tr>\n",
       "      <td>2</td>\n",
       "      <td>DT</td>\n",
       "      <td>0.695932</td>\n",
       "    </tr>\n",
       "    <tr>\n",
       "      <td>1</td>\n",
       "      <td>DT</td>\n",
       "      <td>0.693200</td>\n",
       "    </tr>\n",
       "    <tr>\n",
       "      <td>0</td>\n",
       "      <td>DT</td>\n",
       "      <td>0.679791</td>\n",
       "    </tr>\n",
       "  </tbody>\n",
       "</table>\n",
       "<p>200 rows × 2 columns</p>\n",
       "</div>"
      ],
      "text/plain": [
       "    Model   Runtime\n",
       "199   SVC  0.473199\n",
       "198   SVC  0.470403\n",
       "197   SVC  0.469359\n",
       "196   SVC  0.467306\n",
       "195   SVC  0.467489\n",
       "..    ...       ...\n",
       "4      DT  0.693796\n",
       "3      DT  0.697595\n",
       "2      DT  0.695932\n",
       "1      DT  0.693200\n",
       "0      DT  0.679791\n",
       "\n",
       "[200 rows x 2 columns]"
      ]
     },
     "execution_count": 20,
     "metadata": {},
     "output_type": "execute_result"
    }
   ],
   "source": [
    "irt_df"
   ]
  },
  {
   "cell_type": "code",
   "execution_count": 21,
   "metadata": {},
   "outputs": [
    {
     "data": {
      "image/png": "[encoded data removed]",
      "text/plain": [
       "<Figure size 360x360 with 1 Axes>"
      ]
     },
     "metadata": {
      "needs_background": "light"
     },
     "output_type": "display_data"
    }
   ],
   "source": [
    "sns.catplot(x='Model', y='Runtime', data=irt_df)\n",
    "plt.title('Model Runtimes')\n",
    "plt.show()"
   ]
  },
  {
   "cell_type": "code",
   "execution_count": null,
   "metadata": {},
   "outputs": [],
   "source": []
  }
 ],
 "metadata": {
  "kernelspec": {
   "display_name": "Python 3",
   "language": "python",
   "name": "python3"
  },
  "language_info": {
   "codemirror_mode": {
    "name": "ipython",
    "version": 3
   },
   "file_extension": ".py",
   "mimetype": "text/x-python",
   "name": "python",
   "nbconvert_exporter": "python",
   "pygments_lexer": "ipython3",
   "version": "3.7.3"
  }
 },
 "nbformat": 4,
 "nbformat_minor": 2
}
