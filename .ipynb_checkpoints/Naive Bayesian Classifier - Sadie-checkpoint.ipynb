{
 "cells": [
  {
   "cell_type": "markdown",
   "metadata": {},
   "source": [
    "### Naive Bayesian Classifier (Sadie's Version)\n",
    "Sadie Crawford and Jonah Kornberg\n",
    "#### References:\n",
    "- https://www.datacamp.com/community/tutorials/simplifying-sentiment-analysis-python\n",
    "- Specific ones are scattered throughout the code next to revelant locations"
   ]
  },
  {
   "cell_type": "markdown",
   "metadata": {},
   "source": [
    "#### Importing Training and Testing Data"
   ]
  },
  {
   "cell_type": "code",
   "execution_count": 1,
   "metadata": {},
   "outputs": [
    {
     "data": {
      "text/html": [
       "<div>\n",
       "<style scoped>\n",
       "    .dataframe tbody tr th:only-of-type {\n",
       "        vertical-align: middle;\n",
       "    }\n",
       "\n",
       "    .dataframe tbody tr th {\n",
       "        vertical-align: top;\n",
       "    }\n",
       "\n",
       "    .dataframe thead th {\n",
       "        text-align: right;\n",
       "    }\n",
       "</style>\n",
       "<table border=\"1\" class=\"dataframe\">\n",
       "  <thead>\n",
       "    <tr style=\"text-align: right;\">\n",
       "      <th></th>\n",
       "      <th>id</th>\n",
       "      <th>keyword</th>\n",
       "      <th>location</th>\n",
       "      <th>text</th>\n",
       "      <th>target</th>\n",
       "    </tr>\n",
       "  </thead>\n",
       "  <tbody>\n",
       "    <tr>\n",
       "      <td>0</td>\n",
       "      <td>1</td>\n",
       "      <td>NaN</td>\n",
       "      <td>NaN</td>\n",
       "      <td>Our Deeds are the Reason of this #earthquake M...</td>\n",
       "      <td>1</td>\n",
       "    </tr>\n",
       "    <tr>\n",
       "      <td>1</td>\n",
       "      <td>4</td>\n",
       "      <td>NaN</td>\n",
       "      <td>NaN</td>\n",
       "      <td>Forest fire near La Ronge Sask. Canada</td>\n",
       "      <td>1</td>\n",
       "    </tr>\n",
       "    <tr>\n",
       "      <td>2</td>\n",
       "      <td>5</td>\n",
       "      <td>NaN</td>\n",
       "      <td>NaN</td>\n",
       "      <td>All residents asked to 'shelter in place' are ...</td>\n",
       "      <td>1</td>\n",
       "    </tr>\n",
       "    <tr>\n",
       "      <td>3</td>\n",
       "      <td>6</td>\n",
       "      <td>NaN</td>\n",
       "      <td>NaN</td>\n",
       "      <td>13,000 people receive #wildfires evacuation or...</td>\n",
       "      <td>1</td>\n",
       "    </tr>\n",
       "    <tr>\n",
       "      <td>4</td>\n",
       "      <td>7</td>\n",
       "      <td>NaN</td>\n",
       "      <td>NaN</td>\n",
       "      <td>Just got sent this photo from Ruby #Alaska as ...</td>\n",
       "      <td>1</td>\n",
       "    </tr>\n",
       "    <tr>\n",
       "      <td>...</td>\n",
       "      <td>...</td>\n",
       "      <td>...</td>\n",
       "      <td>...</td>\n",
       "      <td>...</td>\n",
       "      <td>...</td>\n",
       "    </tr>\n",
       "    <tr>\n",
       "      <td>7608</td>\n",
       "      <td>10869</td>\n",
       "      <td>NaN</td>\n",
       "      <td>NaN</td>\n",
       "      <td>Two giant cranes holding a bridge collapse int...</td>\n",
       "      <td>1</td>\n",
       "    </tr>\n",
       "    <tr>\n",
       "      <td>7609</td>\n",
       "      <td>10870</td>\n",
       "      <td>NaN</td>\n",
       "      <td>NaN</td>\n",
       "      <td>@aria_ahrary @TheTawniest The out of control w...</td>\n",
       "      <td>1</td>\n",
       "    </tr>\n",
       "    <tr>\n",
       "      <td>7610</td>\n",
       "      <td>10871</td>\n",
       "      <td>NaN</td>\n",
       "      <td>NaN</td>\n",
       "      <td>M1.94 [01:04 UTC]?5km S of Volcano Hawaii. htt...</td>\n",
       "      <td>1</td>\n",
       "    </tr>\n",
       "    <tr>\n",
       "      <td>7611</td>\n",
       "      <td>10872</td>\n",
       "      <td>NaN</td>\n",
       "      <td>NaN</td>\n",
       "      <td>Police investigating after an e-bike collided ...</td>\n",
       "      <td>1</td>\n",
       "    </tr>\n",
       "    <tr>\n",
       "      <td>7612</td>\n",
       "      <td>10873</td>\n",
       "      <td>NaN</td>\n",
       "      <td>NaN</td>\n",
       "      <td>The Latest: More Homes Razed by Northern Calif...</td>\n",
       "      <td>1</td>\n",
       "    </tr>\n",
       "  </tbody>\n",
       "</table>\n",
       "<p>7613 rows × 5 columns</p>\n",
       "</div>"
      ],
      "text/plain": [
       "         id keyword location  \\\n",
       "0         1     NaN      NaN   \n",
       "1         4     NaN      NaN   \n",
       "2         5     NaN      NaN   \n",
       "3         6     NaN      NaN   \n",
       "4         7     NaN      NaN   \n",
       "...     ...     ...      ...   \n",
       "7608  10869     NaN      NaN   \n",
       "7609  10870     NaN      NaN   \n",
       "7610  10871     NaN      NaN   \n",
       "7611  10872     NaN      NaN   \n",
       "7612  10873     NaN      NaN   \n",
       "\n",
       "                                                   text  target  \n",
       "0     Our Deeds are the Reason of this #earthquake M...       1  \n",
       "1                Forest fire near La Ronge Sask. Canada       1  \n",
       "2     All residents asked to 'shelter in place' are ...       1  \n",
       "3     13,000 people receive #wildfires evacuation or...       1  \n",
       "4     Just got sent this photo from Ruby #Alaska as ...       1  \n",
       "...                                                 ...     ...  \n",
       "7608  Two giant cranes holding a bridge collapse int...       1  \n",
       "7609  @aria_ahrary @TheTawniest The out of control w...       1  \n",
       "7610  M1.94 [01:04 UTC]?5km S of Volcano Hawaii. htt...       1  \n",
       "7611  Police investigating after an e-bike collided ...       1  \n",
       "7612  The Latest: More Homes Razed by Northern Calif...       1  \n",
       "\n",
       "[7613 rows x 5 columns]"
      ]
     },
     "execution_count": 1,
     "metadata": {},
     "output_type": "execute_result"
    }
   ],
   "source": [
    "import pandas as pd\n",
    "\n",
    "train = pd.read_csv('data/train.csv')\n",
    "train"
   ]
  },
  {
   "cell_type": "code",
   "execution_count": 2,
   "metadata": {},
   "outputs": [
    {
     "data": {
      "text/html": [
       "<div>\n",
       "<style scoped>\n",
       "    .dataframe tbody tr th:only-of-type {\n",
       "        vertical-align: middle;\n",
       "    }\n",
       "\n",
       "    .dataframe tbody tr th {\n",
       "        vertical-align: top;\n",
       "    }\n",
       "\n",
       "    .dataframe thead th {\n",
       "        text-align: right;\n",
       "    }\n",
       "</style>\n",
       "<table border=\"1\" class=\"dataframe\">\n",
       "  <thead>\n",
       "    <tr style=\"text-align: right;\">\n",
       "      <th></th>\n",
       "      <th>id</th>\n",
       "      <th>keyword</th>\n",
       "      <th>location</th>\n",
       "      <th>text</th>\n",
       "    </tr>\n",
       "  </thead>\n",
       "  <tbody>\n",
       "    <tr>\n",
       "      <td>0</td>\n",
       "      <td>0</td>\n",
       "      <td>NaN</td>\n",
       "      <td>NaN</td>\n",
       "      <td>Just happened a terrible car crash</td>\n",
       "    </tr>\n",
       "    <tr>\n",
       "      <td>1</td>\n",
       "      <td>2</td>\n",
       "      <td>NaN</td>\n",
       "      <td>NaN</td>\n",
       "      <td>Heard about #earthquake is different cities, s...</td>\n",
       "    </tr>\n",
       "    <tr>\n",
       "      <td>2</td>\n",
       "      <td>3</td>\n",
       "      <td>NaN</td>\n",
       "      <td>NaN</td>\n",
       "      <td>there is a forest fire at spot pond, geese are...</td>\n",
       "    </tr>\n",
       "    <tr>\n",
       "      <td>3</td>\n",
       "      <td>9</td>\n",
       "      <td>NaN</td>\n",
       "      <td>NaN</td>\n",
       "      <td>Apocalypse lighting. #Spokane #wildfires</td>\n",
       "    </tr>\n",
       "    <tr>\n",
       "      <td>4</td>\n",
       "      <td>11</td>\n",
       "      <td>NaN</td>\n",
       "      <td>NaN</td>\n",
       "      <td>Typhoon Soudelor kills 28 in China and Taiwan</td>\n",
       "    </tr>\n",
       "    <tr>\n",
       "      <td>...</td>\n",
       "      <td>...</td>\n",
       "      <td>...</td>\n",
       "      <td>...</td>\n",
       "      <td>...</td>\n",
       "    </tr>\n",
       "    <tr>\n",
       "      <td>3258</td>\n",
       "      <td>10861</td>\n",
       "      <td>NaN</td>\n",
       "      <td>NaN</td>\n",
       "      <td>EARTHQUAKE SAFETY LOS ANGELES ÛÒ SAFETY FASTE...</td>\n",
       "    </tr>\n",
       "    <tr>\n",
       "      <td>3259</td>\n",
       "      <td>10865</td>\n",
       "      <td>NaN</td>\n",
       "      <td>NaN</td>\n",
       "      <td>Storm in RI worse than last hurricane. My city...</td>\n",
       "    </tr>\n",
       "    <tr>\n",
       "      <td>3260</td>\n",
       "      <td>10868</td>\n",
       "      <td>NaN</td>\n",
       "      <td>NaN</td>\n",
       "      <td>Green Line derailment in Chicago http://t.co/U...</td>\n",
       "    </tr>\n",
       "    <tr>\n",
       "      <td>3261</td>\n",
       "      <td>10874</td>\n",
       "      <td>NaN</td>\n",
       "      <td>NaN</td>\n",
       "      <td>MEG issues Hazardous Weather Outlook (HWO) htt...</td>\n",
       "    </tr>\n",
       "    <tr>\n",
       "      <td>3262</td>\n",
       "      <td>10875</td>\n",
       "      <td>NaN</td>\n",
       "      <td>NaN</td>\n",
       "      <td>#CityofCalgary has activated its Municipal Eme...</td>\n",
       "    </tr>\n",
       "  </tbody>\n",
       "</table>\n",
       "<p>3263 rows × 4 columns</p>\n",
       "</div>"
      ],
      "text/plain": [
       "         id keyword location  \\\n",
       "0         0     NaN      NaN   \n",
       "1         2     NaN      NaN   \n",
       "2         3     NaN      NaN   \n",
       "3         9     NaN      NaN   \n",
       "4        11     NaN      NaN   \n",
       "...     ...     ...      ...   \n",
       "3258  10861     NaN      NaN   \n",
       "3259  10865     NaN      NaN   \n",
       "3260  10868     NaN      NaN   \n",
       "3261  10874     NaN      NaN   \n",
       "3262  10875     NaN      NaN   \n",
       "\n",
       "                                                   text  \n",
       "0                    Just happened a terrible car crash  \n",
       "1     Heard about #earthquake is different cities, s...  \n",
       "2     there is a forest fire at spot pond, geese are...  \n",
       "3              Apocalypse lighting. #Spokane #wildfires  \n",
       "4         Typhoon Soudelor kills 28 in China and Taiwan  \n",
       "...                                                 ...  \n",
       "3258  EARTHQUAKE SAFETY LOS ANGELES ÛÒ SAFETY FASTE...  \n",
       "3259  Storm in RI worse than last hurricane. My city...  \n",
       "3260  Green Line derailment in Chicago http://t.co/U...  \n",
       "3261  MEG issues Hazardous Weather Outlook (HWO) htt...  \n",
       "3262  #CityofCalgary has activated its Municipal Eme...  \n",
       "\n",
       "[3263 rows x 4 columns]"
      ]
     },
     "execution_count": 2,
     "metadata": {},
     "output_type": "execute_result"
    }
   ],
   "source": [
    "test = pd.read_csv('data/test.csv')\n",
    "test"
   ]
  },
  {
   "cell_type": "markdown",
   "metadata": {},
   "source": [
    "#### Tokenizing Tweets, Removing Stopwords, Lowercase Stemming"
   ]
  },
  {
   "cell_type": "code",
   "execution_count": 3,
   "metadata": {},
   "outputs": [],
   "source": [
    "# https://www.datacamp.com/community/tutorials/text-analytics-beginners-nltk\n",
    "# NoneType Errors Fix -> https://stackoverflow.com/questions/1207406/how-to-remove-items-from-a-list-while-iterating\n",
    "# https://stackoverflow.com/questions/15586721/wordnet-lemmatization-and-pos-tagging-in-python\n",
    "# http://www.nltk.org/api/nltk.tag.html\n",
    "# http://www.nltk.org/api/nltk.stem.html\n",
    "# https://www.machinelearningplus.com/nlp/lemmatization-examples-python/\n",
    "import nltk\n",
    "from nltk.tokenize import word_tokenize\n",
    "from nltk.corpus import stopwords\n",
    "from nltk.stem import PorterStemmer\n",
    "from nltk.stem.wordnet import WordNetLemmatizer\n",
    "from nltk.corpus import wordnet\n",
    "lemmatizer = WordNetLemmatizer()\n",
    "import string\n",
    "\n",
    "def convert_pos(pos):\n",
    "    if pos[0] == 'C':\n",
    "        return wordnet.ADJ\n",
    "    elif pos[0] == 'J':\n",
    "        return wordnet.ADJ\n",
    "    elif pos[0] == 'A':\n",
    "        return wordnet.ADJ\n",
    "    elif pos[0] == 'V':\n",
    "        return wordnet.VERB\n",
    "    elif pos[0] == 'R':\n",
    "        return wordnet.ADV\n",
    "    else:\n",
    "        return wordnet.NOUN\n",
    "\n",
    "stop_words = stopwords.words('english')\n",
    "for punct in string.punctuation:\n",
    "    stop_words.append(punct)\n",
    "    \n",
    "tokenized = []\n",
    "for i in range(0, len(train['text'])):\n",
    "    words = word_tokenize(train['text'][i])\n",
    "    words = nltk.pos_tag(words)\n",
    "    #important_words = [PorterStemmer().stem(word) for word in words if word not in stop_words]\n",
    "    important_words = [lemmatizer.lemmatize(word.lower(), convert_pos(pos))\n",
    "                       for (word, pos) in words\n",
    "                       if word not in stop_words]\n",
    "    tokenized.append(important_words)\n",
    "train['text'] = tokenized\n",
    "\n",
    "tokenized = []\n",
    "for i in range(0, len(test['text'])):\n",
    "    words = word_tokenize(test['text'][i])\n",
    "    words = nltk.pos_tag(words)\n",
    "    #important_words = [PorterStemmer().stem(word) for word in words if word not in stop_words]\n",
    "    important_words = [lemmatizer.lemmatize(word.lower(), convert_pos(pos))\n",
    "                       for (word, pos) in words\n",
    "                       if word not in stop_words]\n",
    "    tokenized.append(important_words)\n",
    "test['text'] = tokenized"
   ]
  },
  {
   "cell_type": "code",
   "execution_count": 4,
   "metadata": {},
   "outputs": [
    {
     "data": {
      "text/plain": [
       "0       [our, deed, reason, #, earthquake, may, allah,...\n",
       "1        [forest, fire, near, la, ronge, sask, ., canada]\n",
       "2       [all, resident, ask, 'shelter, place, ', notif...\n",
       "3       [13,000, people, receive, #, wildfire, evacuat...\n",
       "4       [just, get, send, photo, ruby, #, alaska, smok...\n",
       "                              ...                        \n",
       "7608    [two, giant, crane, hold, bridge, collapse, ne...\n",
       "7609    [@, aria_ahrary, @, thetawniest, the, control,...\n",
       "7610    [m1.94, [, 01:04, utc, ], ?, 5km, s, volcano, ...\n",
       "7611    [police, investigating, e-bike, collided, car,...\n",
       "7612    [the, late, :, more, home, raze, northern, cal...\n",
       "Name: text, Length: 7613, dtype: object"
      ]
     },
     "execution_count": 4,
     "metadata": {},
     "output_type": "execute_result"
    }
   ],
   "source": [
    "train['text']"
   ]
  },
  {
   "cell_type": "markdown",
   "metadata": {},
   "source": [
    "#### Finding Important Words"
   ]
  },
  {
   "cell_type": "code",
   "execution_count": 5,
   "metadata": {},
   "outputs": [],
   "source": [
    "# https://stackoverflow.com/questions/20827741/nltk-naivebayesclassifier-training-for-sentiment-analysis\n",
    "# https://kite.com/python/docs/nltk.FreqDist\n",
    "import nltk\n",
    "list_of_words = []\n",
    "for words in train['text']:\n",
    "    for word in words:\n",
    "        list_of_words.append(word)\n",
    "common_words = nltk.FreqDist(word.lower() for word in list_of_words)\n",
    "\n",
    "list_of_words = []\n",
    "for words in test['text']:\n",
    "    for word in words:\n",
    "        list_of_words.append(word)\n",
    "common_words = nltk.FreqDist(word.lower() for word in list_of_words)"
   ]
  },
  {
   "cell_type": "code",
   "execution_count": 6,
   "metadata": {},
   "outputs": [
    {
     "data": {
      "text/plain": [
       "[':', 'http', '#', '?', '.', '@', 'i', '!', '...', \"'s\"]"
      ]
     },
     "execution_count": 6,
     "metadata": {},
     "output_type": "execute_result"
    }
   ],
   "source": [
    "common_words = common_words.most_common(1500)\n",
    "popular_words = []\n",
    "for word in common_words:\n",
    "    popular_words.append(word[0])\n",
    "popular_words[0:10]"
   ]
  },
  {
   "cell_type": "markdown",
   "metadata": {},
   "source": [
    "#### Formatting Classifier Input"
   ]
  },
  {
   "cell_type": "code",
   "execution_count": 7,
   "metadata": {},
   "outputs": [],
   "source": [
    "# defining function to be used below\n",
    "def word_check(tweet):\n",
    "    tweet = set(tweet)\n",
    "    word_check_dict = {} # creating a dictionary of whether tweet has a word or not\n",
    "    for word in popular_words:\n",
    "        if word in tweet:\n",
    "            word_check_dict[word] = 1\n",
    "        else:\n",
    "            word_check_dict[word] = 0\n",
    "    return word_check_dict"
   ]
  },
  {
   "cell_type": "code",
   "execution_count": 8,
   "metadata": {},
   "outputs": [
    {
     "name": "stdout",
     "output_type": "stream",
     "text": [
      "({':': 0, 'http': 0, '#': 1, '?': 0, '.': 0, '@': 0, 'i': 0, '!': 0, '...': 0, \"'s\": 0, \"'\": 0, '-': 0, 'the': 0, ';': 0, '&': 0, 'get': 0, \"n't\": 0, ')': 0, 'amp': 0, 'like': 0, 'fire': 0, '(': 0, 'a': 0, 'go': 0, 'via': 0, 'new': 0, \"'m\": 0, 'news': 0, 'one': 0, 'would': 0, 'attack': 0, 'u': 1, 'people': 0, 'say': 0, 'be': 0, 'it': 0, '2': 0, 'take': 0, 'in': 0, 'kill': 0, 'make': 0, 'this': 0, 'watch': 0, 'to': 0, 'emergency': 0, 'time': 0, 'crash': 0, 'disaster': 0, 'year': 0, 'bomb': 0, 'think': 0, 'video': 0, 'flood': 0, 'service': 0, '[': 0, 'life': 0, ']': 0, '|': 0, 'see': 0, 'first': 0, 'storm': 0, 'burn': 0, 'suicide': 0, 'come': 0, 'police': 0, 'you': 0, 'rt': 0, 'know': 0, 'do': 0, 'building': 0, 'still': 0, 'love': 0, 'collapse': 0, '3': 0, 'hiroshima': 0, \"'re\": 0, 'full': 0, 'family': 0, 'body': 0, 'no': 0, 'need': 0, 'today': 0, 'day': 0, 'two': 0, 'my': 0, 'try': 0, 'ca': 0, 'cause': 0, 'look': 0, 'house': 0, 'if': 0, 'and': 0, 'last': 0, 'train': 0, 'bag': 0, 'car': 0, 'we': 0, 'world': 0, 'survive': 0, 'home': 0, 'drown': 0, 'right': 0, 'post': 0, \"'ll\": 0, 'death': 0, 'stop': 0, 'nuclear': 0, 'forest': 0, '1': 0, 'let': 0, 'back': 0, 'feel': 0, 'call': 0, 'plan': 0, 'could': 0, 'woman': 0, 'want': 0, 'live': 0, 'use': 0, 'even': 0, 'dead': 0, 'rescue': 0, 'good': 0, 'youtube': 0, \"'ve\": 0, 'show': 0, 'man': 0, 'california': 0, 'water': 0, 'accident': 0, 'god': 0, 'destroy': 0, 'never': 0, 'wild': 0, 'wound': 0, 'blow': 0, 'demolish': 0, 'obliterate': 0, 'how': 0, 'way': 0, 'best': 0, 'more': 0, 'bomber': 0, 'for': 0, 'work': 0, 'fear': 0, 'hear': 0, 'army': 0, 'give': 0, 'wave': 0, 'hostage': 0, 'crush': 0, 'happen': 0, 'wildfire': 0, 'run': 0, 'he': 0, 'injury': 0, 'black': 0, 'na': 0, 'change': 0, 'on': 0, 'night': 0, 'panic': 0, 'help': 0, '\\x89û_': 0, 'mass': 0, 'hijack': 0, 'scream': 0, 'save': 0, 'what': 0, 'when': 0, 'why': 0, 'now': 0, 'national': 0, 'report': 0, 'photo': 0, 'hot': 0, 'war': 0, 'electrocute': 0, 'just': 0, 'near': 0, 'play': 0, '5': 0, 'many': 0, 'big': 0, 'old': 0, 'story': 0, 'boy': 0, 'deluge': 0, 'tell': 0, 'thing': 0, 'die': 0, 'of': 0, 'that': 0, 'lol': 0, 'weapon': 0, 'really': 0, 'another': 0, 'state': 0, 'explode': 0, 'city': 0, 'not': 0, 'game': 0, 'hope': 0, 'please': 0, '\\x89ûò': 0, 'find': 0, 'summer': 0, 'miss': 0, 'casualty': 0, 'with': 0, 'detonate': 0, '2015': 0, 'there': 0, 'top': 0, 'all': 0, 'read': 0, 'oh': 0, 'put': 0, 'bombing': 0, 'truck': 0, 'quarantine': 0, 'but': 0, 'catch': 0, 'northern': 0, 'release': 0, '/': 0, '4': 0, 'gt': 0, 'by': 0, 'terrorist': 0, 'derail': 0, 'set': 0, 'gon': 0, 'responder': 0, 'week': 0, 'red': 0, 'may': 1, 'bad': 0, 'japan': 0, 'collide': 0, 'fatal': 0, 'siren': 0, 'fuck': 0, 'market': 0, 'break': 0, 'park': 0, 'fall': 0, 'will': 0, 'damage': 0, 'update': 0, 'great': 0, '$': 0, 'also': 0, 'fight': 0, 'smoke': 0, 'rain': 0, 'obama': 0, 'boat': 0, 'as': 0, 'severe': 0, 'mh370': 0, 'migrant': 0, 'girl': 0, 'due': 0, 'so': 0, 'river': 0, 'ever': 0, 'sound': 0, 'injure': 0, 'keep': 0, 'business': 0, 'bring': 0, 'school': 0, 'mosque': 0, 'minute': 0, 'murder': 0, 'much': 0, 'landslide': 0, 'wind': 0, 'pm': 0, 'evacuate': 0, 'natural': 0, 'thunderstorm': 0, 'earthquake': 1, 'check': 0, 'shit': 0, 'from': 0, 'past': 0, 'start': 0, 'line': 0, 'send': 0, 'well': 0, 'around': 0, 'suspect': 0, 'pay': 0, 'im': 0, 'always': 0, 'sleep': 0, 'saudi': 0, 'at': 0, 'lightning': 0, 'seismic': 0, 'apocalypse': 0, 'someone': 0, 'fan': 0, 'stock': 0, 'food': 0, 'face': 0, 'issue': 0, 'late': 0, 'is': 0, 'heat': 0, 'catastrophic': 0, 'up': 0, 'content': 0, 'part': 0, 'failure': 0, 'drought': 0, 'blast': 0, 'hundred': 0, 'snowstorm': 0, 'eye': 0, 'flame': 0, 'guy': 0, 'wait': 0, 'debris': 0, 'israel': 0, 'annihilation': 0, 'baby': 0, 'remember': 0, 'arson': 0, 'free': 0, 'after': 0, 'mark': 0, 'atomic': 0, 'tonight': 0, 'spill': 0, 'survivor': 0, 'obliteration': 0, 'riot': 0, 'rubble': 0, 'wreck': 0, 'light': 0, 'though': 0, 'bloody': 0, 'loud': 0, 'air': 0, 'island': 0, 'second': 0, 'sign': 0, 'horse': 0, 'order': 0, 'end': 0, 'talk': 0, 'saw': 0, 'since': 0, '6': 0, 'bridge': 0, 'burning': 0, 'terrorism': 0, 'weather': 0, 'trap': 0, 'three': 0, 'cyclone': 0, 'warning': 0, '--': 0, 'detonation': 0, 'oil': 0, 'evacuation': 0, 'calgary': 0, 'military': 0, 'lava': 0, 'trouble': 0, 'reddit': 0, 'hit': 0, 'open': 0, 'hold': 0, 'stand': 0, 'salt': 0, 'rise': 0, 'pick': 0, 'site': 0, 'county': 0, 'case': 0, 'west': 0, '\\x89ûó': 0, 'must': 0, 'bioterrorism': 0, 'drive': 0, 'continue': 0, 'affect': 0, 'without': 0, 'next': 0, '%': 0, 'security': 0, 'group': 0, 'hurricane': 0, 'hailstorm': 0, 'massacre': 0, 'tragedy': 0, 'violent': 0, 'street': 0, 'china': 0, 'follow': 0, 'build': 0, 'far': 0, 'airport': 0, 'an': 0, 'turkey': 0, 'head': 0, 'charge': 0, 'throw': 0, 'australia': 0, 'low': 0, 'blaze': 0, 'lady': 0, 'whole': 0, 'piece': 0, 'ur': 0, 'sure': 0, 'ruin': 0, 'movie': 0, '70': 0, 'child': 0, 'kid': 0, 'close': 0, 'volcano': 0, 'something': 0, 'emmerdale': 0, 'stretcher': 0, 'eyewitness': 0, 'hail': 0, 'meltdown': 0, 'thunder': 0, 'hazard': 0, 'hazardous': 0, 'mayhem': 0, 'legionnaire': 0, 'rainstorm': 0, 'rescuer': 0, 'pkk': 0, 'trauma': 0, 'everyone': 0, 'hat': 0, 'victim': 0, 'damn': 0, 'block': 0, 'airplane': 0, 'officer': 0, 'least': 0, 'white': 0, 'problem': 0, 'health': 0, 'little': 0, 'august': 0, 'blight': 0, 'cross': 0, 'hell': 0, 'deal': 0, 'anniversary': 0, 'likely': 0, 'power': 0, 'destruction': 0, 'effect': 0, 'refugee': 0, 'desolate': 0, 'dust': 0, 'fatality': 0, 'pic': 0, 'bang': 0, 'typhoon': 0, 'yesterday': 0, 'away': 0, 'aftershock': 0, 'yet': 0, 'horrible': 0, 'ambulance': 0, 'blood': 0, 'move': 0, 'aug': 0, 'out': 0, 'every': 0, 'reason': 1, 'zone': 0, 'omg': 0, '30': 0, 'muslim': 0, 'avalanche': 0, 'wow': 0, 'member': 0, 'pray': 0, 'ask': 0, 'bus': 0, 'room': 0, 'who': 0, 'yes': 0, 'brown': 0, 'firefighter': 0, 'claim': 0, 'breaking': 0, 'pile': 0, 'catastrophe': 0, 'cliff': 0, 'some': 0, 'official': 0, 'malaysia': 0, 'desolation': 0, 'tsunami': 0, '40': 0, 'structural': 0, '16yr': 0, 'they': 0, \"'d\": 0, 'ablaze': 0, 'song': 0, 'leave': 0, 'government': 0, 'american': 0, 'believe': 0, 'heart': 0, 'militant': 0, 'battle': 0, 'fedex': 0, 'longer': 0, 'project': 0, 'w/': 0, 'your': 0, 'eat': 0, 'bleed': 0, 'person': 0, 'land': 0, 'buy': 0, 'pretty': 0, 'shoulder': 0, 'abc': 0, 'south': 0, 'america': 0, '60': 0, 'crazy': 0, 'ban': 0, 'brother': 0, 'actually': 0, 'investigator': 0, 'search': 0, 'sink': 0, 'ha': 0, 'devastation': 0, 'hijacker': 0, 'inundate': 0, 'mudslide': 0, 'sinkhole': 0, 'stay': 0, 'bbc': 0, 'giant': 0, 'large': 0, 'or': 0, 'become': 0, 'word': 0, 'listen': 0, 'lead': 0, 'ago': 0, 'picture': 0, 'rule': 0, 'ebay': 0, 'safety': 0, 'u.s': 0, 'are': 0, 'fukushima': 0, 'data': 0, 'link': 0, 'israeli': 0, 'dont': 0, 'cover': 0, 'king': 0, 'wake': 0, 'public': 0, '7': 0, 'tweet': 0, 'medium': 0, 'property': 0, 'shoot': 0, 'road': 0, 'blizzard': 0, 'name': 0, '15': 0, 'local': 0, '70th': 0, 'nearby': 0, 'level': 0, 'computer': 0, 'learn': 0, 'place': 0, 'area': 0, 'over': 0, 'rock': 0, 'chemical': 0, 'star': 0, 'fact': 0, 'season': 0, 'curfew': 0, '8': 0, 'danger': 0, 'quiz': 0, 'horror': 0, 'devastate': 0, 'shift': 0, 'flatten': 0, 'gem': 0, 'murderer': 0, 'under': 0, 'pandemonium': 0, 'raze': 0, 'sandstorm': 0, 'trench': 0, 'crisis': 0, 'twitter': 0, 'huge': 0, 'super': 0, \"'we\": 0, 'happy': 0, 'begin': 0, 'shot': 0, 'annihilate': 0, 'strike': 0, 'nothing': 0, 'everything': 0, 'tonto': 0, 'either': 0, 'add': 0, 'might': 0, 'ash': 0, 'dog': 0, 'date': 0, 'men': 0, 'bar': 0, 'already': 0, 'walk': 0, 'long': 0, 'total': 0, 'drop': 0, 'music': 0, 'carry': 0, 'care': 0, 'crew': 0, 'fun': 0, 'wo': 0, 'real': 0, 'account': 0, 'hand': 0, 'social': 0, 'phone': 0, 'n': 0, 'moment': 0, 'knock': 0, 'drake': 0, 'green': 0, 'iran': 0, 'press': 0, 'money': 0, 'sorry': 0, 'can': 0, 'bush': 0, 'control': 0, 'truth': 0, 'lie': 0, 'plant': 0, '13': 0, 'soon': 0, 'finally': 0, 'ross': 0, 'flight': 0, 'wreckage': 0, 'shape': 0, 'demolition': 0, 'thanks': 0, 'derailment': 0, 'tv': 0, 'famine': 0, 'reuters': 0, 'tornado': 0, 'prebreak': 0, 'appear': 0, 'outbreak': 0, 'upheaval': 0, 'probably': 0, 'smh': 0, 'meet': 0, 'wish': 0, 'history': 0, 'seek': 0, 'support': 0, 'e': 0, 'target': 0, 'cop': 0, 'hour': 0, 'almost': 0, 'book': 0, 'strong': 0, 'possible': 0, 'arsonist': 0, 'capture': 0, 'have': 0, 'fucking': 0, 'anyone': 0, 'transport': 0, 'bioterror': 0, 'mean': 0, 'mine': 0, 'yeah': 0, 'tomorrow': 0, 'join': 0, 'mom': 0, 'player': 0, \"'the\": 0, 're\\x89û_': 0, 'month': 0, 'ok': 0, 'north': 0, 'else': 0, 'text': 0, 'morning': 0, 'side': 0, 'job': 0, 'collision': 0, 'film': 0, 'she': 0, 'village': 0, 'displace': 0, 'colour': 0, 'passenger': 0, 'declare': 0, 'apollo': 0, 'saipan': 0, 'speak': 0, 'half': 0, 'traumatise': 0, 'isi': 0, 'explosion': 0, 'waste': 0, 'islamic': 0, 'unconfirmed': 0, 'neighbour': 0, 'ancient': 0, 'swallowed': 0, 'virgin': 0, 'galactic': 0, 'twister': 0, 'whirlwind': 0, 'windstorm': 0, 'spot': 0, 'soudelor': 0, 'short': 0, '100': 0, '10': 0, 'min': 0, 'share': 0, 'lose': 0, 'lot': 0, 'earth': 0, 'bitch': 0, 'flag': 0, 'massive': 0, 'christian': 0, 'tree': 0, 'cool': 0, 'anthrax': 0, 'act': 0, 'u.s.': 0, 'climate': 0, 'cut': 0, 'sad': 0, 'sit': 0, 'me': 0, 'literally': 0, 'high': 0, 'brain': 0, 'absolutely': 0, 'single': 0, 'young': 0, 'thought': 0, 'thursday': 0, 'human': 0, 'wall': 0, 'st': 0, 'return': 0, 'enough': 0, 'here': 0, 'ukraine': 0, 'evil': 0, 'seem': 0, 'michael': 0, 'maybe': 0, 'coach': 0, 'w': 0, 'b': 0, 'ball': 0, 'repair': 0, 'lack': 0, 'wife': 0, \"'conclusively\": 0, '..': 0, 'spring': 0, 'india': 0, 'washington': 0, 'mad': 0, 'cree': 0, 'engulf': 0, 'harm': 0, 'funtenna': 0, 'reactor': 0, 'offensive': 0, 'rioting': 0, 'safe': 0, 'front': 0, 'wonder': 0, 'hate': 0, 'vehicle': 0, 'medical': 0, 'nepal': 0, 'team': 0, 'hard': 0, 'involve': 0, 'reunion': 0, 'helicopter': 0, '12': 0, 'mile': 0, 'step': 0, 'v': 0, 'got': 0, 'mod': 0, 'major': 0, 'pass': 0, 'true': 0, 'interest': 0, 'remove': 0, 'our': 1, 'double': 0, 'cry': 0, 'udhampur': 0, 'result': 0, 'metro': 0, 'experience': 0, 'grow': 0, 'germ': 0, 'wa': 0, 'four': 0, 'sun': 0, 'town': 0, 'mention': 0, 'google': 0, 'mind': 0, 'bank': 0, 'rn': 0, 'episode': 0, 'cute': 0, 'early': 0, 'mp': 0, 'about': 0, 'dude': 0, 'beat': 0, 'anything': 0, 'occur': 0, 'plane': 0, 's': 0, 'multiple': 0, 'civilian': 0, 'recent': 0, 'mother': 0, 'insurance': 0, 'alive': 0, 'scene': 0, 'event': 0, 'recover': 0, 'guess': 0, 'favorite': 0, 'idea': 0, 'course': 0, 'character': 0, 'invoice': 0, 'travel': 0, 'm.o.p': 0, 'ignition': 0, 'th': 0, 'cnn': 0, 'autistic': 0, 'brooklyn': 0, 'guide': 0, 'pres': 0, 'memory': 0, 'led': 0, 'offroad': 0, 'nw': 0, 'hellfire': 0, 'exchange': 0, 'terror': 0, 'policy': 0, 'bestnaijamade': 0, 'terrible': 0, 'across': 0, 'hey': 0, 'cold': 0, 'awesome': 0, 'nigerian': 0, 'self': 0, 'currently': 0, 'p': 0, 'age': 0, 'expert': 0, 'supply': 0, 'dad': 0, 'hospital': 0, 'drunk': 0, 'pull': 0, 'outside': 0, 'pakistan': 0, 'minecraft': 0, '2.0': 0, 'any': 0, 'southern': 0, 'armageddon': 0, 'direction': 0, 'shock': 0, 'fine': 0, 'court': 0, 'gay': 0, 'hire': 0, 'provide': 0, 'information': 0, 'write': 0, 'friend': 0, 'temple': 0, 'mount': 0, 'imagine': 0, 'country': 0, 'lab': 0, 'mishap': 0, 'research': 0, 'question': 0, 'ppl': 0, 'john': 0, 'blazing': 0, 'quick': 0, 'reality': 0, 'enjoy': 0, 'hollywood': 0, 'ok.': 0, 'fast': 0, 'important': 0, 'future': 0, 'ai': 0, 'x': 0, 'behind': 0, 'amazing': 0, 'handbag': 0, 'charger': 0, 'small': 0, 'fashion': 0, 'employee': 0, 'fit': 0, 'lord': 0, 'raise': 0, 'amid': 0, 'abandon': 0, 'program': 0, 'trent': 0, 'central': 0, 'folk': 0, 'sunday': 0, 'finger': 0, 'son': 0, 'door': 0, 'ya': 0, 'detail': 0, 'bc': 0, 'russian': 0, 'fly': 0, 'worker': 0, 'denver': 0, 'bit': 0, 'sister': 0, 'confirm': 0, 'thousand': 0, 'community': 0, 'international': 0, 'palestinian': 0, 'fix': 0, 'typhoon-devastated': 0, 'https': 0, 'peace': 0, 'struggle': 0, 'internally': 0, 'etc': 0, 'welcome': 0, 'record': 0, 'texas': 0, 'turn': 0, 'pool': 0, 'inside': 0, 'libya': 0, 'jeff': 0, 'drowning': 0, 'm': 0, 'kit': 0, 'activate': 0, 'holy': 0, 'manslaughter': 0, 'spark': 0, 'arrive': 0, 'lamp': 0, 'mph': 0, 'apc': 0, 'browser': 0, 'action': 0, 'canaanite': 0, 'sue': 0, 'aba': 0, 'subreddits': 0, 'confirmed': 0, 'nice': 0, 'wear': 0, 'radio': 0, 'foot': 0, 'swear': 0, 'secret': 0, 'delay': 0, 'la': 0, 'too': 0, 'dear': 0, 'counter': 0, 'wing': 0, 'destroyed': 0, 'baseball': 0, 'nearly': 0, 'treat': 0, 'science': 0, 'driver': 0, 'bro': 0, 'answer': 0, '9': 0, 'playlist': 0, 'd': 0, 'among': 0, 'student': 0, 'mtvhottest': 0, 'tax': 0, 'stab': 0, 'f': 0, 'rome': 0, 'wednesday': 0, 'arrest': 0, 'owner': 0, 'authority': 0, 'hotel': 0, 'funny': 0, 'hero': 0, 'bathroom': 0, 'pamela': 0, 'geller': 0, 'resident': 0, 'receive': 0, 'then': 0, 'nation': 0, 'album': 0, '05': 0, 'ship': 0, 'citizen': 0, 'ground': 0, 'ebola': 0, 'risk': 0, 'impact': 0, 'threat': 0, 'channel': 0, 'ap': 0, 'cant': 0, 'company': 0, '+': 0, 'upon': 0, 'entire': 0, 'banana': 0, 'shell': 0, 'agree': 0, 'glass': 0, 'art': 0, 'where': 0, 'nurse': 0, 'email': 0, 'size': 0, 'leather': 0, 'together': 0, 'rea\\x89û_': 0, 'meek': 0, 'fool': 0, 'facebook': 0, 'force': 0, 'final': 0, '1945': 0, 'am': 0, 'suffer': 0, 'nagasaki': 0, 'lt': 0, 'drink': 0, 'july': 0, '2014': 0, 'nyt': 0, 'crane': 0, 'during': 0, 'create': 0, 'tear': 0, 'threaten': 0, 'global': 0, 'warcraft': 0, 'common': 0, 'memorial': 0, 'foxnews': 0, 'million': 0, '\\x89ûï': 0, 'prepare': 0, '=': 0, 'should': 0, 'structure': 0, 'being': 0, 'cancer': 0, 'smell': 0, 'tent': 0, 'later': 0, 'down': 0, 'dream': 0, 'forever': 0, 'dan': 0, 'rd': 0, 'steal': 0, 'soul': 0, '0': 0, 'cable': 0, 'parent': 0, 'consider': 0, 'heavy': 0, 'enugu': 0, 'soldier': 0, 'center': 0, 'gm': 0, 'enemy': 0, 'flash': 0, 'rate': 0, 'track': 0, 'h': 0, 'recall': 0, 'aftermath': 0, 'emotional': 0, 'ahead': 0, 'them': 0, 'declaration': 0, 'marians': 0, 'attempt': 0, 'doe': 0, 'max': 0, '1.9': 0, 'yyc': 0, 'theater': 0, 'roosevelt': 0, 'contain': 0, 'match': 0, 'comment': 0, '11-year-old': 0, '4wd': 0, 'wan': 0, 'clash': 0, 'recognize': 0, 'yazidis': 0, 'york': 0, 'festival': 0, 'disea': 0, 'delivers': 0, 'italian': 0, 'cameroon': 0, 'screamed': 0, 'spaceship': 0, 'pickens': 0, 'rly': 0, 'recount': 0, '\\x89ûïwhen': 0, 'plunging': 0, 'trapped': 0, 'traumatised': 0, 'i\\x89ûªm': 0, 'field': 0, 'hurt': 0, 'camera': 0, 'certain': 0, 'feeling': 0, 'disney': 0, 'ear': 0, 'se': 0, 'gresham': 0, 'training': 0, 'bay': 0, '1st': 0, 'chief': 0, 'david': 0, 'judge': 0, 'france': 0, 'french': 0, 'breakingnews': 0, 'device': 0, 'ride': 0, 'cost': 0, 'proud': 0, 'hashtag': 0, 'auth': 0, 'louis': 0, 'lucky': 0, 'zombie': 0, 'exit': 0, 'london': 0, 'animal': 0, 'leader': 0, '//t.co/q2eblokeve': 0, 'directioners': 0, '//t.co/encmhz6y34': 0, 'shark': 0, 'sport': 0, 'jackson': 0, 'notice': 0, 'poster': 0, 'east': 0, 'vine': 0, 'beach': 0, 'win': 0, 'defend': 0, 'suspected': 0, 'former': 0, 'au': 0, 'along': 0, 'virus': 0, 'protect': 0, 'tube': 0, 'handle': 0, 'teacher': 0, 'edt': 0, 'present': 0, 'colorado': 0, 'duck': 0, 't': 0, 'figure': 0, 'id': 0, 'drone': 0, 'sir': 0, 'manage': 0, 'portland': 0, 'pack': 0, 'series': 0, 'understand': 0, 'dry': 0, 'sing': 0, 'idk': 0, 'cheese': 0, 'stadium': 0, 'pop': 0, 'off': 0, 'height': 0, 'internet': 0, 'ocean': 0, 'lunch': 0, 'pls': 0, 'sale': 0, 'amazon': 0, 'ice': 0, 'floor': 0, 'remind': 0, 'type': 0, 'o': 0, 'mess': 0, 'grass': 0, 'wrong': 0, 'feed': 0, 'tote': 0, 'purse': 0, 'read\\x89û_': 0, 'digital': 0, 'parenthood': 0, 'stick': 0, 'interview': 0, 'nigga': 0, 'investigate': 0, 'metal': 0, 'japanese': 0, 'nigeria': 0, 'uk': 0, 'wwii': 0, 'associated': 0, 'toll': 0, 'test': 0, 'apartment': 0, 'wtf': 0, 'office': 0, '2nd': 0, 'ta': 0, 'matter': 0, 'budget': 0, 'legion': 0, 'broken': 0, 'swallow': 0, 'wire': 0, 'dozen': 0, 'respect': 0, 'number': 0, 'fox': 0, 'r': 0, 'gaza': 0, 'fail': 0, 'felt': 0, 'respond': 0, 'extreme': 0, 'class': 0, 'bath': 0, 'arm': 0, 'camp': 0, 'haha': 0, 'val': 0, 'summerfate': 0, 'el': 0, 'lane': 0, 'view': 0, 'party': 0, 'friday': 0, 'trust': 0, 'false': 0, 'hughes': 0, 'football': 0, '20': 0, 'general': 0, 'dumb': 0, 'point': 0, 'everybody': 0, 'expect': 0, \"''\": 0, 'limit': 0, 'board': 0, 'coming': 0, 'serious': 0, 'mikeparractor': 0, 'dramatic': 0, 'ring': 0, 'couple': 0, 'before': 0, 'self-image': 0, '5sos': 0, 'flat': 0, 'kidnap': 0, 'seriously': 0, 'draw': 0, 'seattle': 0, 'destiny': 0, 'madhya': 0, 'pradesh': 0, 'estimate': 0, 'commit': 0, 'smaug': 0, 'kiss': 0, 'em': 0, 'chaos': 0, 'others': 0, 'sensor-senso': 0, '11': 0, '25': 0, 'genocide': 0, 'myanmar': 0, 'relief': 0, 'capsize': 0, 'brake': 0, 'nursing': 0, 'beating': 0, 'department': 0, 'engulfed': 0, 'latest': 0, 'dutch': 0, 'turnpike': 0, 'silver': 0, 'combo': 0, 'don\\x89ûªt': 0, 'gun': 0, 'approach': 0, 'worth': 0, 'ave': 0, 'olap': 0, 'chicago': 0, 'patience': 0, 'jonathan': 0, 'bayelsa': 0, 'spend': 0, 'southampton': 0, 'vulnerable': 0, '~': 0, 'spos': 0, 'key': 0, 'snack': 0, 'pain': 0, 'stuart': 0, 'refugio': 0, 'costly': 0, 'grows': 0, 'alabama': 0, 'alp': 0, '12000': 0, 'repatriate': 0, 'feminist': 0, 'heal': 0, 'screaming': 0, 'sunk': 0, 'oklahoma': 0, ',': 0, 'pond': 0, 'taiwan': 0, 'eh': 0, 'nowplaying': 0, 'anger': 0, 'clear': 0, 'slow': 0, 'traffic': 0, 'store': 0, 'c': 0, 'donate': 0, 'mix': 0, 'ir': 0, 'edm': 0, 'dance': 0, 'l': 0, 'collins': 0, 'price': 0, 'map': 0, 'mexican': 0, 'died': 0, 'completely': 0, 'rip': 0, 'pakistani': 0, 'choice': 0, '14': 0, 'laugh': 0, 'transfer': 0, '16': 0, 'viralspell': 0, 'chance': 0, 'mountain': 0, 'silent': 0, 'print': 0, 'bob': 0, 'item': 0, 'apocalyptic': 0, 'fat': 0, 'warn': 0, 'escape': 0, 'thru': 0, 'stir': 0, 'serial': 0, 'acid': 0, 'reduce': 0, 'relationship': 0, 'cat': 0, 'angel': 0, 'article': 0, 'career': 0, 'steve': 0, 'forget': 0, 'thank': 0, 'moon': 0, 'similar': 0, 'fuel': 0, 'agency': 0, 'assembly': 0, 'ticket': 0, 'these': 0, 'pathogen': 0, 'deliver': 0, 'management': 0, 'seen': 0, 'g': 0, 'alarm': 0, 'five': 0, 'wrap': 0, 'concert': 0, '*': 0, 'mac': 0, 'loan': 0, 'effort': 0, 'headline': 0, 'slip': 0, 'progress': 0, 'remain': 0, 'per': 0, 'daughter': 0, 'mini': 0, 'jean': 0, 'sub': 0, 'message': 0, 'cream': 0, 'relate': 0, 'monster': 0, '26': 0, 'regular': 0}, 1)\n"
     ]
    },
    {
     "name": "stdout",
     "output_type": "stream",
     "text": [
      "{':': 0, 'http': 0, '#': 0, '?': 0, '.': 0, '@': 0, 'i': 0, '!': 0, '...': 0, \"'s\": 0, \"'\": 0, '-': 0, 'the': 0, ';': 0, '&': 0, 'get': 0, \"n't\": 0, ')': 0, 'amp': 0, 'like': 0, 'fire': 0, '(': 0, 'a': 0, 'go': 0, 'via': 0, 'new': 0, \"'m\": 0, 'news': 0, 'one': 0, 'would': 0, 'attack': 0, 'u': 0, 'people': 0, 'say': 0, 'be': 0, 'it': 0, '2': 0, 'take': 0, 'in': 0, 'kill': 0, 'make': 0, 'this': 0, 'watch': 0, 'to': 0, 'emergency': 0, 'time': 0, 'crash': 1, 'disaster': 0, 'year': 0, 'bomb': 0, 'think': 0, 'video': 0, 'flood': 0, 'service': 0, '[': 0, 'life': 0, ']': 0, '|': 0, 'see': 0, 'first': 0, 'storm': 0, 'burn': 0, 'suicide': 0, 'come': 0, 'police': 0, 'you': 0, 'rt': 0, 'know': 0, 'do': 0, 'building': 0, 'still': 0, 'love': 0, 'collapse': 0, '3': 0, 'hiroshima': 0, \"'re\": 0, 'full': 0, 'family': 0, 'body': 0, 'no': 0, 'need': 0, 'today': 0, 'day': 0, 'two': 0, 'my': 0, 'try': 0, 'ca': 0, 'cause': 0, 'look': 0, 'house': 0, 'if': 0, 'and': 0, 'last': 0, 'train': 0, 'bag': 0, 'car': 1, 'we': 0, 'world': 0, 'survive': 0, 'home': 0, 'drown': 0, 'right': 0, 'post': 0, \"'ll\": 0, 'death': 0, 'stop': 0, 'nuclear': 0, 'forest': 0, '1': 0, 'let': 0, 'back': 0, 'feel': 0, 'call': 0, 'plan': 0, 'could': 0, 'woman': 0, 'want': 0, 'live': 0, 'use': 0, 'even': 0, 'dead': 0, 'rescue': 0, 'good': 0, 'youtube': 0, \"'ve\": 0, 'show': 0, 'man': 0, 'california': 0, 'water': 0, 'accident': 0, 'god': 0, 'destroy': 0, 'never': 0, 'wild': 0, 'wound': 0, 'blow': 0, 'demolish': 0, 'obliterate': 0, 'how': 0, 'way': 0, 'best': 0, 'more': 0, 'bomber': 0, 'for': 0, 'work': 0, 'fear': 0, 'hear': 0, 'army': 0, 'give': 0, 'wave': 0, 'hostage': 0, 'crush': 0, 'happen': 1, 'wildfire': 0, 'run': 0, 'he': 0, 'injury': 0, 'black': 0, 'na': 0, 'change': 0, 'on': 0, 'night': 0, 'panic': 0, 'help': 0, '\\x89û_': 0, 'mass': 0, 'hijack': 0, 'scream': 0, 'save': 0, 'what': 0, 'when': 0, 'why': 0, 'now': 0, 'national': 0, 'report': 0, 'photo': 0, 'hot': 0, 'war': 0, 'electrocute': 0, 'just': 1, 'near': 0, 'play': 0, '5': 0, 'many': 0, 'big': 0, 'old': 0, 'story': 0, 'boy': 0, 'deluge': 0, 'tell': 0, 'thing': 0, 'die': 0, 'of': 0, 'that': 0, 'lol': 0, 'weapon': 0, 'really': 0, 'another': 0, 'state': 0, 'explode': 0, 'city': 0, 'not': 0, 'game': 0, 'hope': 0, 'please': 0, '\\x89ûò': 0, 'find': 0, 'summer': 0, 'miss': 0, 'casualty': 0, 'with': 0, 'detonate': 0, '2015': 0, 'there': 0, 'top': 0, 'all': 0, 'read': 0, 'oh': 0, 'put': 0, 'bombing': 0, 'truck': 0, 'quarantine': 0, 'but': 0, 'catch': 0, 'northern': 0, 'release': 0, '/': 0, '4': 0, 'gt': 0, 'by': 0, 'terrorist': 0, 'derail': 0, 'set': 0, 'gon': 0, 'responder': 0, 'week': 0, 'red': 0, 'may': 0, 'bad': 0, 'japan': 0, 'collide': 0, 'fatal': 0, 'siren': 0, 'fuck': 0, 'market': 0, 'break': 0, 'park': 0, 'fall': 0, 'will': 0, 'damage': 0, 'update': 0, 'great': 0, '$': 0, 'also': 0, 'fight': 0, 'smoke': 0, 'rain': 0, 'obama': 0, 'boat': 0, 'as': 0, 'severe': 0, 'mh370': 0, 'migrant': 0, 'girl': 0, 'due': 0, 'so': 0, 'river': 0, 'ever': 0, 'sound': 0, 'injure': 0, 'keep': 0, 'business': 0, 'bring': 0, 'school': 0, 'mosque': 0, 'minute': 0, 'murder': 0, 'much': 0, 'landslide': 0, 'wind': 0, 'pm': 0, 'evacuate': 0, 'natural': 0, 'thunderstorm': 0, 'earthquake': 0, 'check': 0, 'shit': 0, 'from': 0, 'past': 0, 'start': 0, 'line': 0, 'send': 0, 'well': 0, 'around': 0, 'suspect': 0, 'pay': 0, 'im': 0, 'always': 0, 'sleep': 0, 'saudi': 0, 'at': 0, 'lightning': 0, 'seismic': 0, 'apocalypse': 0, 'someone': 0, 'fan': 0, 'stock': 0, 'food': 0, 'face': 0, 'issue': 0, 'late': 0, 'is': 0, 'heat': 0, 'catastrophic': 0, 'up': 0, 'content': 0, 'part': 0, 'failure': 0, 'drought': 0, 'blast': 0, 'hundred': 0, 'snowstorm': 0, 'eye': 0, 'flame': 0, 'guy': 0, 'wait': 0, 'debris': 0, 'israel': 0, 'annihilation': 0, 'baby': 0, 'remember': 0, 'arson': 0, 'free': 0, 'after': 0, 'mark': 0, 'atomic': 0, 'tonight': 0, 'spill': 0, 'survivor': 0, 'obliteration': 0, 'riot': 0, 'rubble': 0, 'wreck': 0, 'light': 0, 'though': 0, 'bloody': 0, 'loud': 0, 'air': 0, 'island': 0, 'second': 0, 'sign': 0, 'horse': 0, 'order': 0, 'end': 0, 'talk': 0, 'saw': 0, 'since': 0, '6': 0, 'bridge': 0, 'burning': 0, 'terrorism': 0, 'weather': 0, 'trap': 0, 'three': 0, 'cyclone': 0, 'warning': 0, '--': 0, 'detonation': 0, 'oil': 0, 'evacuation': 0, 'calgary': 0, 'military': 0, 'lava': 0, 'trouble': 0, 'reddit': 0, 'hit': 0, 'open': 0, 'hold': 0, 'stand': 0, 'salt': 0, 'rise': 0, 'pick': 0, 'site': 0, 'county': 0, 'case': 0, 'west': 0, '\\x89ûó': 0, 'must': 0, 'bioterrorism': 0, 'drive': 0, 'continue': 0, 'affect': 0, 'without': 0, 'next': 0, '%': 0, 'security': 0, 'group': 0, 'hurricane': 0, 'hailstorm': 0, 'massacre': 0, 'tragedy': 0, 'violent': 0, 'street': 0, 'china': 0, 'follow': 0, 'build': 0, 'far': 0, 'airport': 0, 'an': 0, 'turkey': 0, 'head': 0, 'charge': 0, 'throw': 0, 'australia': 0, 'low': 0, 'blaze': 0, 'lady': 0, 'whole': 0, 'piece': 0, 'ur': 0, 'sure': 0, 'ruin': 0, 'movie': 0, '70': 0, 'child': 0, 'kid': 0, 'close': 0, 'volcano': 0, 'something': 0, 'emmerdale': 0, 'stretcher': 0, 'eyewitness': 0, 'hail': 0, 'meltdown': 0, 'thunder': 0, 'hazard': 0, 'hazardous': 0, 'mayhem': 0, 'legionnaire': 0, 'rainstorm': 0, 'rescuer': 0, 'pkk': 0, 'trauma': 0, 'everyone': 0, 'hat': 0, 'victim': 0, 'damn': 0, 'block': 0, 'airplane': 0, 'officer': 0, 'least': 0, 'white': 0, 'problem': 0, 'health': 0, 'little': 0, 'august': 0, 'blight': 0, 'cross': 0, 'hell': 0, 'deal': 0, 'anniversary': 0, 'likely': 0, 'power': 0, 'destruction': 0, 'effect': 0, 'refugee': 0, 'desolate': 0, 'dust': 0, 'fatality': 0, 'pic': 0, 'bang': 0, 'typhoon': 0, 'yesterday': 0, 'away': 0, 'aftershock': 0, 'yet': 0, 'horrible': 0, 'ambulance': 0, 'blood': 0, 'move': 0, 'aug': 0, 'out': 0, 'every': 0, 'reason': 0, 'zone': 0, 'omg': 0, '30': 0, 'muslim': 0, 'avalanche': 0, 'wow': 0, 'member': 0, 'pray': 0, 'ask': 0, 'bus': 0, 'room': 0, 'who': 0, 'yes': 0, 'brown': 0, 'firefighter': 0, 'claim': 0, 'breaking': 0, 'pile': 0, 'catastrophe': 0, 'cliff': 0, 'some': 0, 'official': 0, 'malaysia': 0, 'desolation': 0, 'tsunami': 0, '40': 0, 'structural': 0, '16yr': 0, 'they': 0, \"'d\": 0, 'ablaze': 0, 'song': 0, 'leave': 0, 'government': 0, 'american': 0, 'believe': 0, 'heart': 0, 'militant': 0, 'battle': 0, 'fedex': 0, 'longer': 0, 'project': 0, 'w/': 0, 'your': 0, 'eat': 0, 'bleed': 0, 'person': 0, 'land': 0, 'buy': 0, 'pretty': 0, 'shoulder': 0, 'abc': 0, 'south': 0, 'america': 0, '60': 0, 'crazy': 0, 'ban': 0, 'brother': 0, 'actually': 0, 'investigator': 0, 'search': 0, 'sink': 0, 'ha': 0, 'devastation': 0, 'hijacker': 0, 'inundate': 0, 'mudslide': 0, 'sinkhole': 0, 'stay': 0, 'bbc': 0, 'giant': 0, 'large': 0, 'or': 0, 'become': 0, 'word': 0, 'listen': 0, 'lead': 0, 'ago': 0, 'picture': 0, 'rule': 0, 'ebay': 0, 'safety': 0, 'u.s': 0, 'are': 0, 'fukushima': 0, 'data': 0, 'link': 0, 'israeli': 0, 'dont': 0, 'cover': 0, 'king': 0, 'wake': 0, 'public': 0, '7': 0, 'tweet': 0, 'medium': 0, 'property': 0, 'shoot': 0, 'road': 0, 'blizzard': 0, 'name': 0, '15': 0, 'local': 0, '70th': 0, 'nearby': 0, 'level': 0, 'computer': 0, 'learn': 0, 'place': 0, 'area': 0, 'over': 0, 'rock': 0, 'chemical': 0, 'star': 0, 'fact': 0, 'season': 0, 'curfew': 0, '8': 0, 'danger': 0, 'quiz': 0, 'horror': 0, 'devastate': 0, 'shift': 0, 'flatten': 0, 'gem': 0, 'murderer': 0, 'under': 0, 'pandemonium': 0, 'raze': 0, 'sandstorm': 0, 'trench': 0, 'crisis': 0, 'twitter': 0, 'huge': 0, 'super': 0, \"'we\": 0, 'happy': 0, 'begin': 0, 'shot': 0, 'annihilate': 0, 'strike': 0, 'nothing': 0, 'everything': 0, 'tonto': 0, 'either': 0, 'add': 0, 'might': 0, 'ash': 0, 'dog': 0, 'date': 0, 'men': 0, 'bar': 0, 'already': 0, 'walk': 0, 'long': 0, 'total': 0, 'drop': 0, 'music': 0, 'carry': 0, 'care': 0, 'crew': 0, 'fun': 0, 'wo': 0, 'real': 0, 'account': 0, 'hand': 0, 'social': 0, 'phone': 0, 'n': 0, 'moment': 0, 'knock': 0, 'drake': 0, 'green': 0, 'iran': 0, 'press': 0, 'money': 0, 'sorry': 0, 'can': 0, 'bush': 0, 'control': 0, 'truth': 0, 'lie': 0, 'plant': 0, '13': 0, 'soon': 0, 'finally': 0, 'ross': 0, 'flight': 0, 'wreckage': 0, 'shape': 0, 'demolition': 0, 'thanks': 0, 'derailment': 0, 'tv': 0, 'famine': 0, 'reuters': 0, 'tornado': 0, 'prebreak': 0, 'appear': 0, 'outbreak': 0, 'upheaval': 0, 'probably': 0, 'smh': 0, 'meet': 0, 'wish': 0, 'history': 0, 'seek': 0, 'support': 0, 'e': 0, 'target': 0, 'cop': 0, 'hour': 0, 'almost': 0, 'book': 0, 'strong': 0, 'possible': 0, 'arsonist': 0, 'capture': 0, 'have': 0, 'fucking': 0, 'anyone': 0, 'transport': 0, 'bioterror': 0, 'mean': 0, 'mine': 0, 'yeah': 0, 'tomorrow': 0, 'join': 0, 'mom': 0, 'player': 0, \"'the\": 0, 're\\x89û_': 0, 'month': 0, 'ok': 0, 'north': 0, 'else': 0, 'text': 0, 'morning': 0, 'side': 0, 'job': 0, 'collision': 0, 'film': 0, 'she': 0, 'village': 0, 'displace': 0, 'colour': 0, 'passenger': 0, 'declare': 0, 'apollo': 0, 'saipan': 0, 'speak': 0, 'half': 0, 'traumatise': 0, 'isi': 0, 'explosion': 0, 'waste': 0, 'islamic': 0, 'unconfirmed': 0, 'neighbour': 0, 'ancient': 0, 'swallowed': 0, 'virgin': 0, 'galactic': 0, 'twister': 0, 'whirlwind': 0, 'windstorm': 0, 'spot': 0, 'soudelor': 0, 'short': 0, '100': 0, '10': 0, 'min': 0, 'share': 0, 'lose': 0, 'lot': 0, 'earth': 0, 'bitch': 0, 'flag': 0, 'massive': 0, 'christian': 0, 'tree': 0, 'cool': 0, 'anthrax': 0, 'act': 0, 'u.s.': 0, 'climate': 0, 'cut': 0, 'sad': 0, 'sit': 0, 'me': 0, 'literally': 0, 'high': 0, 'brain': 0, 'absolutely': 0, 'single': 0, 'young': 0, 'thought': 0, 'thursday': 0, 'human': 0, 'wall': 0, 'st': 0, 'return': 0, 'enough': 0, 'here': 0, 'ukraine': 0, 'evil': 0, 'seem': 0, 'michael': 0, 'maybe': 0, 'coach': 0, 'w': 0, 'b': 0, 'ball': 0, 'repair': 0, 'lack': 0, 'wife': 0, \"'conclusively\": 0, '..': 0, 'spring': 0, 'india': 0, 'washington': 0, 'mad': 0, 'cree': 0, 'engulf': 0, 'harm': 0, 'funtenna': 0, 'reactor': 0, 'offensive': 0, 'rioting': 0, 'safe': 0, 'front': 0, 'wonder': 0, 'hate': 0, 'vehicle': 0, 'medical': 0, 'nepal': 0, 'team': 0, 'hard': 0, 'involve': 0, 'reunion': 0, 'helicopter': 0, '12': 0, 'mile': 0, 'step': 0, 'v': 0, 'got': 0, 'mod': 0, 'major': 0, 'pass': 0, 'true': 0, 'interest': 0, 'remove': 0, 'our': 0, 'double': 0, 'cry': 0, 'udhampur': 0, 'result': 0, 'metro': 0, 'experience': 0, 'grow': 0, 'germ': 0, 'wa': 0, 'four': 0, 'sun': 0, 'town': 0, 'mention': 0, 'google': 0, 'mind': 0, 'bank': 0, 'rn': 0, 'episode': 0, 'cute': 0, 'early': 0, 'mp': 0, 'about': 0, 'dude': 0, 'beat': 0, 'anything': 0, 'occur': 0, 'plane': 0, 's': 0, 'multiple': 0, 'civilian': 0, 'recent': 0, 'mother': 0, 'insurance': 0, 'alive': 0, 'scene': 0, 'event': 0, 'recover': 0, 'guess': 0, 'favorite': 0, 'idea': 0, 'course': 0, 'character': 0, 'invoice': 0, 'travel': 0, 'm.o.p': 0, 'ignition': 0, 'th': 0, 'cnn': 0, 'autistic': 0, 'brooklyn': 0, 'guide': 0, 'pres': 0, 'memory': 0, 'led': 0, 'offroad': 0, 'nw': 0, 'hellfire': 0, 'exchange': 0, 'terror': 0, 'policy': 0, 'bestnaijamade': 0, 'terrible': 1, 'across': 0, 'hey': 0, 'cold': 0, 'awesome': 0, 'nigerian': 0, 'self': 0, 'currently': 0, 'p': 0, 'age': 0, 'expert': 0, 'supply': 0, 'dad': 0, 'hospital': 0, 'drunk': 0, 'pull': 0, 'outside': 0, 'pakistan': 0, 'minecraft': 0, '2.0': 0, 'any': 0, 'southern': 0, 'armageddon': 0, 'direction': 0, 'shock': 0, 'fine': 0, 'court': 0, 'gay': 0, 'hire': 0, 'provide': 0, 'information': 0, 'write': 0, 'friend': 0, 'temple': 0, 'mount': 0, 'imagine': 0, 'country': 0, 'lab': 0, 'mishap': 0, 'research': 0, 'question': 0, 'ppl': 0, 'john': 0, 'blazing': 0, 'quick': 0, 'reality': 0, 'enjoy': 0, 'hollywood': 0, 'ok.': 0, 'fast': 0, 'important': 0, 'future': 0, 'ai': 0, 'x': 0, 'behind': 0, 'amazing': 0, 'handbag': 0, 'charger': 0, 'small': 0, 'fashion': 0, 'employee': 0, 'fit': 0, 'lord': 0, 'raise': 0, 'amid': 0, 'abandon': 0, 'program': 0, 'trent': 0, 'central': 0, 'folk': 0, 'sunday': 0, 'finger': 0, 'son': 0, 'door': 0, 'ya': 0, 'detail': 0, 'bc': 0, 'russian': 0, 'fly': 0, 'worker': 0, 'denver': 0, 'bit': 0, 'sister': 0, 'confirm': 0, 'thousand': 0, 'community': 0, 'international': 0, 'palestinian': 0, 'fix': 0, 'typhoon-devastated': 0, 'https': 0, 'peace': 0, 'struggle': 0, 'internally': 0, 'etc': 0, 'welcome': 0, 'record': 0, 'texas': 0, 'turn': 0, 'pool': 0, 'inside': 0, 'libya': 0, 'jeff': 0, 'drowning': 0, 'm': 0, 'kit': 0, 'activate': 0, 'holy': 0, 'manslaughter': 0, 'spark': 0, 'arrive': 0, 'lamp': 0, 'mph': 0, 'apc': 0, 'browser': 0, 'action': 0, 'canaanite': 0, 'sue': 0, 'aba': 0, 'subreddits': 0, 'confirmed': 0, 'nice': 0, 'wear': 0, 'radio': 0, 'foot': 0, 'swear': 0, 'secret': 0, 'delay': 0, 'la': 0, 'too': 0, 'dear': 0, 'counter': 0, 'wing': 0, 'destroyed': 0, 'baseball': 0, 'nearly': 0, 'treat': 0, 'science': 0, 'driver': 0, 'bro': 0, 'answer': 0, '9': 0, 'playlist': 0, 'd': 0, 'among': 0, 'student': 0, 'mtvhottest': 0, 'tax': 0, 'stab': 0, 'f': 0, 'rome': 0, 'wednesday': 0, 'arrest': 0, 'owner': 0, 'authority': 0, 'hotel': 0, 'funny': 0, 'hero': 0, 'bathroom': 0, 'pamela': 0, 'geller': 0, 'resident': 0, 'receive': 0, 'then': 0, 'nation': 0, 'album': 0, '05': 0, 'ship': 0, 'citizen': 0, 'ground': 0, 'ebola': 0, 'risk': 0, 'impact': 0, 'threat': 0, 'channel': 0, 'ap': 0, 'cant': 0, 'company': 0, '+': 0, 'upon': 0, 'entire': 0, 'banana': 0, 'shell': 0, 'agree': 0, 'glass': 0, 'art': 0, 'where': 0, 'nurse': 0, 'email': 0, 'size': 0, 'leather': 0, 'together': 0, 'rea\\x89û_': 0, 'meek': 0, 'fool': 0, 'facebook': 0, 'force': 0, 'final': 0, '1945': 0, 'am': 0, 'suffer': 0, 'nagasaki': 0, 'lt': 0, 'drink': 0, 'july': 0, '2014': 0, 'nyt': 0, 'crane': 0, 'during': 0, 'create': 0, 'tear': 0, 'threaten': 0, 'global': 0, 'warcraft': 0, 'common': 0, 'memorial': 0, 'foxnews': 0, 'million': 0, '\\x89ûï': 0, 'prepare': 0, '=': 0, 'should': 0, 'structure': 0, 'being': 0, 'cancer': 0, 'smell': 0, 'tent': 0, 'later': 0, 'down': 0, 'dream': 0, 'forever': 0, 'dan': 0, 'rd': 0, 'steal': 0, 'soul': 0, '0': 0, 'cable': 0, 'parent': 0, 'consider': 0, 'heavy': 0, 'enugu': 0, 'soldier': 0, 'center': 0, 'gm': 0, 'enemy': 0, 'flash': 0, 'rate': 0, 'track': 0, 'h': 0, 'recall': 0, 'aftermath': 0, 'emotional': 0, 'ahead': 0, 'them': 0, 'declaration': 0, 'marians': 0, 'attempt': 0, 'doe': 0, 'max': 0, '1.9': 0, 'yyc': 0, 'theater': 0, 'roosevelt': 0, 'contain': 0, 'match': 0, 'comment': 0, '11-year-old': 0, '4wd': 0, 'wan': 0, 'clash': 0, 'recognize': 0, 'yazidis': 0, 'york': 0, 'festival': 0, 'disea': 0, 'delivers': 0, 'italian': 0, 'cameroon': 0, 'screamed': 0, 'spaceship': 0, 'pickens': 0, 'rly': 0, 'recount': 0, '\\x89ûïwhen': 0, 'plunging': 0, 'trapped': 0, 'traumatised': 0, 'i\\x89ûªm': 0, 'field': 0, 'hurt': 0, 'camera': 0, 'certain': 0, 'feeling': 0, 'disney': 0, 'ear': 0, 'se': 0, 'gresham': 0, 'training': 0, 'bay': 0, '1st': 0, 'chief': 0, 'david': 0, 'judge': 0, 'france': 0, 'french': 0, 'breakingnews': 0, 'device': 0, 'ride': 0, 'cost': 0, 'proud': 0, 'hashtag': 0, 'auth': 0, 'louis': 0, 'lucky': 0, 'zombie': 0, 'exit': 0, 'london': 0, 'animal': 0, 'leader': 0, '//t.co/q2eblokeve': 0, 'directioners': 0, '//t.co/encmhz6y34': 0, 'shark': 0, 'sport': 0, 'jackson': 0, 'notice': 0, 'poster': 0, 'east': 0, 'vine': 0, 'beach': 0, 'win': 0, 'defend': 0, 'suspected': 0, 'former': 0, 'au': 0, 'along': 0, 'virus': 0, 'protect': 0, 'tube': 0, 'handle': 0, 'teacher': 0, 'edt': 0, 'present': 0, 'colorado': 0, 'duck': 0, 't': 0, 'figure': 0, 'id': 0, 'drone': 0, 'sir': 0, 'manage': 0, 'portland': 0, 'pack': 0, 'series': 0, 'understand': 0, 'dry': 0, 'sing': 0, 'idk': 0, 'cheese': 0, 'stadium': 0, 'pop': 0, 'off': 0, 'height': 0, 'internet': 0, 'ocean': 0, 'lunch': 0, 'pls': 0, 'sale': 0, 'amazon': 0, 'ice': 0, 'floor': 0, 'remind': 0, 'type': 0, 'o': 0, 'mess': 0, 'grass': 0, 'wrong': 0, 'feed': 0, 'tote': 0, 'purse': 0, 'read\\x89û_': 0, 'digital': 0, 'parenthood': 0, 'stick': 0, 'interview': 0, 'nigga': 0, 'investigate': 0, 'metal': 0, 'japanese': 0, 'nigeria': 0, 'uk': 0, 'wwii': 0, 'associated': 0, 'toll': 0, 'test': 0, 'apartment': 0, 'wtf': 0, 'office': 0, '2nd': 0, 'ta': 0, 'matter': 0, 'budget': 0, 'legion': 0, 'broken': 0, 'swallow': 0, 'wire': 0, 'dozen': 0, 'respect': 0, 'number': 0, 'fox': 0, 'r': 0, 'gaza': 0, 'fail': 0, 'felt': 0, 'respond': 0, 'extreme': 0, 'class': 0, 'bath': 0, 'arm': 0, 'camp': 0, 'haha': 0, 'val': 0, 'summerfate': 0, 'el': 0, 'lane': 0, 'view': 0, 'party': 0, 'friday': 0, 'trust': 0, 'false': 0, 'hughes': 0, 'football': 0, '20': 0, 'general': 0, 'dumb': 0, 'point': 0, 'everybody': 0, 'expect': 0, \"''\": 0, 'limit': 0, 'board': 0, 'coming': 0, 'serious': 0, 'mikeparractor': 0, 'dramatic': 0, 'ring': 0, 'couple': 0, 'before': 0, 'self-image': 0, '5sos': 0, 'flat': 0, 'kidnap': 0, 'seriously': 0, 'draw': 0, 'seattle': 0, 'destiny': 0, 'madhya': 0, 'pradesh': 0, 'estimate': 0, 'commit': 0, 'smaug': 0, 'kiss': 0, 'em': 0, 'chaos': 0, 'others': 0, 'sensor-senso': 0, '11': 0, '25': 0, 'genocide': 0, 'myanmar': 0, 'relief': 0, 'capsize': 0, 'brake': 0, 'nursing': 0, 'beating': 0, 'department': 0, 'engulfed': 0, 'latest': 0, 'dutch': 0, 'turnpike': 0, 'silver': 0, 'combo': 0, 'don\\x89ûªt': 0, 'gun': 0, 'approach': 0, 'worth': 0, 'ave': 0, 'olap': 0, 'chicago': 0, 'patience': 0, 'jonathan': 0, 'bayelsa': 0, 'spend': 0, 'southampton': 0, 'vulnerable': 0, '~': 0, 'spos': 0, 'key': 0, 'snack': 0, 'pain': 0, 'stuart': 0, 'refugio': 0, 'costly': 0, 'grows': 0, 'alabama': 0, 'alp': 0, '12000': 0, 'repatriate': 0, 'feminist': 0, 'heal': 0, 'screaming': 0, 'sunk': 0, 'oklahoma': 0, ',': 0, 'pond': 0, 'taiwan': 0, 'eh': 0, 'nowplaying': 0, 'anger': 0, 'clear': 0, 'slow': 0, 'traffic': 0, 'store': 0, 'c': 0, 'donate': 0, 'mix': 0, 'ir': 0, 'edm': 0, 'dance': 0, 'l': 0, 'collins': 0, 'price': 0, 'map': 0, 'mexican': 0, 'died': 0, 'completely': 0, 'rip': 0, 'pakistani': 0, 'choice': 0, '14': 0, 'laugh': 0, 'transfer': 0, '16': 0, 'viralspell': 0, 'chance': 0, 'mountain': 0, 'silent': 0, 'print': 0, 'bob': 0, 'item': 0, 'apocalyptic': 0, 'fat': 0, 'warn': 0, 'escape': 0, 'thru': 0, 'stir': 0, 'serial': 0, 'acid': 0, 'reduce': 0, 'relationship': 0, 'cat': 0, 'angel': 0, 'article': 0, 'career': 0, 'steve': 0, 'forget': 0, 'thank': 0, 'moon': 0, 'similar': 0, 'fuel': 0, 'agency': 0, 'assembly': 0, 'ticket': 0, 'these': 0, 'pathogen': 0, 'deliver': 0, 'management': 0, 'seen': 0, 'g': 0, 'alarm': 0, 'five': 0, 'wrap': 0, 'concert': 0, '*': 0, 'mac': 0, 'loan': 0, 'effort': 0, 'headline': 0, 'slip': 0, 'progress': 0, 'remain': 0, 'per': 0, 'daughter': 0, 'mini': 0, 'jean': 0, 'sub': 0, 'message': 0, 'cream': 0, 'relate': 0, 'monster': 0, '26': 0, 'regular': 0}\n"
     ]
    }
   ],
   "source": [
    "# https://pandas.pydata.org/pandas-docs/stable/reference/api/pandas.DataFrame.itertuples.html#pandas.DataFrame.itertuples\n",
    "training_tuples = []\n",
    "for row in train.itertuples():\n",
    "    training_tuples.append((word_check(row[4]), row[5]))\n",
    "print(training_tuples[0])\n",
    "\n",
    "testing_tuples = []\n",
    "for row in test.itertuples():\n",
    "    testing_tuples.append(word_check(row[4]))\n",
    "print(testing_tuples[0])"
   ]
  },
  {
   "cell_type": "markdown",
   "metadata": {},
   "source": [
    "#### Training Classifier"
   ]
  },
  {
   "cell_type": "code",
   "execution_count": 9,
   "metadata": {},
   "outputs": [],
   "source": [
    "classifier = nltk.NaiveBayesClassifier.train(training_tuples)"
   ]
  },
  {
   "cell_type": "code",
   "execution_count": 10,
   "metadata": {},
   "outputs": [
    {
     "name": "stdout",
     "output_type": "stream",
     "text": [
      "Most Informative Features\n",
      "               hiroshima = 1                   1 : 0      =     74.8 : 1.0\n",
      "                  bomber = 1                   1 : 0      =     51.8 : 1.0\n",
      "                malaysia = 1                   1 : 0      =     42.0 : 1.0\n",
      "                wildfire = 1                   1 : 0      =     41.1 : 1.0\n",
      "                   spill = 1                   1 : 0      =     37.6 : 1.0\n",
      "                wreckage = 1                   1 : 0      =     35.8 : 1.0\n",
      "                outbreak = 1                   1 : 0      =     35.8 : 1.0\n",
      "                 warning = 1                   1 : 0      =     33.2 : 1.0\n",
      "                   saudi = 1                   1 : 0      =     31.4 : 1.0\n",
      "                  atomic = 1                   1 : 0      =     29.5 : 1.0\n"
     ]
    }
   ],
   "source": [
    "classifier.show_most_informative_features(10)"
   ]
  },
  {
   "cell_type": "markdown",
   "metadata": {},
   "source": [
    "#### Classifying and Saving Test Tuples"
   ]
  },
  {
   "cell_type": "code",
   "execution_count": 11,
   "metadata": {},
   "outputs": [],
   "source": [
    "# https://docs.python.org/3/library/csv.html\n",
    "# https://stackoverflow.com/questions/3348460/csv-file-written-with-python-has-blank-lines-between-each-row\n",
    "import csv\n",
    "\n",
    "with open('data/submission_test.csv', 'w', newline='') as file:\n",
    "    writer = csv.writer(file, delimiter=',')\n",
    "    writer.writerow(['id', 'target'])\n",
    "    for i in range(0, len(test['id'])):\n",
    "        writer.writerow([test['id'][i], classifier.classify(testing_tuples[i])])"
   ]
  },
  {
   "cell_type": "markdown",
   "metadata": {},
   "source": [
    "#### Out of Curiosity, Looking at Accuracy on Reclassifying Training Tuples"
   ]
  },
  {
   "cell_type": "code",
   "execution_count": 12,
   "metadata": {},
   "outputs": [
    {
     "data": {
      "text/plain": [
       "0.8112439248653619"
      ]
     },
     "execution_count": 12,
     "metadata": {},
     "output_type": "execute_result"
    }
   ],
   "source": [
    "nltk.classify.accuracy(classifier, training_tuples)"
   ]
  },
  {
   "cell_type": "code",
   "execution_count": null,
   "metadata": {},
   "outputs": [],
   "source": []
  }
 ],
 "metadata": {
  "kernelspec": {
   "display_name": "Python 3",
   "language": "python",
   "name": "python3"
  },
  "language_info": {
   "codemirror_mode": {
    "name": "ipython",
    "version": 3
   },
   "file_extension": ".py",
   "mimetype": "text/x-python",
   "name": "python",
   "nbconvert_exporter": "python",
   "pygments_lexer": "ipython3",
   "version": "3.7.4"
  }
 },
 "nbformat": 4,
 "nbformat_minor": 2
}
