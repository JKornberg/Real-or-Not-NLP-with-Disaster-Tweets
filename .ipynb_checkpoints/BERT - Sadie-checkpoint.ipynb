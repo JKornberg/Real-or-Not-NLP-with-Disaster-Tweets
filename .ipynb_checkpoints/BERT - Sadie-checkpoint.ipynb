{
 "cells": [
  {
   "cell_type": "markdown",
   "metadata": {},
   "source": [
    "Reference for BERT Tutorial: https://medium.com/@aniruddha.choudhury94/part-2-bert-fine-tuning-tutorial-with-pytorch-for-text-classification-on-the-corpus-of-linguistic-18057ce330e1"
   ]
  },
  {
   "cell_type": "markdown",
   "metadata": {},
   "source": [
    "### Parsing Data"
   ]
  },
  {
   "cell_type": "code",
   "execution_count": 7,
   "metadata": {},
   "outputs": [
    {
     "name": "stdout",
     "output_type": "stream",
     "text": [
      "Number of tuples: 7,613\n"
     ]
    },
    {
     "data": {
      "text/html": [
       "<div>\n",
       "<style scoped>\n",
       "    .dataframe tbody tr th:only-of-type {\n",
       "        vertical-align: middle;\n",
       "    }\n",
       "\n",
       "    .dataframe tbody tr th {\n",
       "        vertical-align: top;\n",
       "    }\n",
       "\n",
       "    .dataframe thead th {\n",
       "        text-align: right;\n",
       "    }\n",
       "</style>\n",
       "<table border=\"1\" class=\"dataframe\">\n",
       "  <thead>\n",
       "    <tr style=\"text-align: right;\">\n",
       "      <th></th>\n",
       "      <th>id</th>\n",
       "      <th>keyword</th>\n",
       "      <th>location</th>\n",
       "      <th>text</th>\n",
       "      <th>target</th>\n",
       "    </tr>\n",
       "  </thead>\n",
       "  <tbody>\n",
       "    <tr>\n",
       "      <th>7378</th>\n",
       "      <td>10561</td>\n",
       "      <td>windstorm</td>\n",
       "      <td>Puerto Rico</td>\n",
       "      <td>Reality Training: Train falls off elevated tra...</td>\n",
       "      <td>1</td>\n",
       "    </tr>\n",
       "    <tr>\n",
       "      <th>1585</th>\n",
       "      <td>2288</td>\n",
       "      <td>cliff%20fall</td>\n",
       "      <td>36 &amp; 38</td>\n",
       "      <td>i hope u trip n fall of a cliff after this twe...</td>\n",
       "      <td>0</td>\n",
       "    </tr>\n",
       "    <tr>\n",
       "      <th>692</th>\n",
       "      <td>997</td>\n",
       "      <td>blazing</td>\n",
       "      <td>Your screen</td>\n",
       "      <td>S3XLEAK!!!\\nPh0tos of 19yrs old Ash@wo lady in...</td>\n",
       "      <td>0</td>\n",
       "    </tr>\n",
       "    <tr>\n",
       "      <th>5035</th>\n",
       "      <td>7179</td>\n",
       "      <td>mudslide</td>\n",
       "      <td>Holly Springs, NC</td>\n",
       "      <td>@UrufuSanRagu a Mudslide?</td>\n",
       "      <td>1</td>\n",
       "    </tr>\n",
       "    <tr>\n",
       "      <th>563</th>\n",
       "      <td>814</td>\n",
       "      <td>battle</td>\n",
       "      <td>NaN</td>\n",
       "      <td>A young German stormtrooper engaged in the Bat...</td>\n",
       "      <td>1</td>\n",
       "    </tr>\n",
       "    <tr>\n",
       "      <th>5523</th>\n",
       "      <td>7878</td>\n",
       "      <td>quarantined</td>\n",
       "      <td>NaN</td>\n",
       "      <td>Alabama firefighters quarantined after possibl...</td>\n",
       "      <td>1</td>\n",
       "    </tr>\n",
       "    <tr>\n",
       "      <th>4510</th>\n",
       "      <td>6410</td>\n",
       "      <td>hurricane</td>\n",
       "      <td>Somewhere Powerbraking A Chevy</td>\n",
       "      <td>@Freegeezy17 you stay in Houston?</td>\n",
       "      <td>0</td>\n",
       "    </tr>\n",
       "    <tr>\n",
       "      <th>5042</th>\n",
       "      <td>7188</td>\n",
       "      <td>mudslide</td>\n",
       "      <td>Notts</td>\n",
       "      <td>#BakeOffFriends #GBBO 'The one with the mudsli...</td>\n",
       "      <td>0</td>\n",
       "    </tr>\n",
       "    <tr>\n",
       "      <th>172</th>\n",
       "      <td>247</td>\n",
       "      <td>ambulance</td>\n",
       "      <td>Jackson</td>\n",
       "      <td>http://t.co/AY6zzcUpnz Twelve feared killed in...</td>\n",
       "      <td>1</td>\n",
       "    </tr>\n",
       "    <tr>\n",
       "      <th>3521</th>\n",
       "      <td>5034</td>\n",
       "      <td>eyewitness</td>\n",
       "      <td>NaN</td>\n",
       "      <td>How ÛÏLittle BoyÛ Affected the People In Hi...</td>\n",
       "      <td>1</td>\n",
       "    </tr>\n",
       "  </tbody>\n",
       "</table>\n",
       "</div>"
      ],
      "text/plain": [
       "         id       keyword                        location  \\\n",
       "7378  10561     windstorm                     Puerto Rico   \n",
       "1585   2288  cliff%20fall                         36 & 38   \n",
       "692     997       blazing                     Your screen   \n",
       "5035   7179      mudslide              Holly Springs, NC    \n",
       "563     814        battle                             NaN   \n",
       "5523   7878   quarantined                             NaN   \n",
       "4510   6410     hurricane  Somewhere Powerbraking A Chevy   \n",
       "5042   7188      mudslide                           Notts   \n",
       "172     247     ambulance                         Jackson   \n",
       "3521   5034    eyewitness                             NaN   \n",
       "\n",
       "                                                   text  target  \n",
       "7378  Reality Training: Train falls off elevated tra...       1  \n",
       "1585  i hope u trip n fall of a cliff after this twe...       0  \n",
       "692   S3XLEAK!!!\\nPh0tos of 19yrs old Ash@wo lady in...       0  \n",
       "5035                          @UrufuSanRagu a Mudslide?       1  \n",
       "563   A young German stormtrooper engaged in the Bat...       1  \n",
       "5523  Alabama firefighters quarantined after possibl...       1  \n",
       "4510                  @Freegeezy17 you stay in Houston?       0  \n",
       "5042  #BakeOffFriends #GBBO 'The one with the mudsli...       0  \n",
       "172   http://t.co/AY6zzcUpnz Twelve feared killed in...       1  \n",
       "3521  How ÛÏLittle BoyÛ Affected the People In Hi...       1  "
      ]
     },
     "execution_count": 7,
     "metadata": {},
     "output_type": "execute_result"
    }
   ],
   "source": [
    "import pandas as pd\n",
    "\n",
    "df = pd.read_csv('data/train.csv',\n",
    "                header = 0)\n",
    "print('Number of tuples: {:,}'.format(df.shape[0]))\n",
    "df.sample(10)"
   ]
  },
  {
   "cell_type": "code",
   "execution_count": 16,
   "metadata": {},
   "outputs": [
    {
     "name": "stdout",
     "output_type": "stream",
     "text": [
      "Our Deeds are the Reason of this #earthquake May ALLAH Forgive us all\n",
      "1\n"
     ]
    }
   ],
   "source": [
    "tweets = df.text.values\n",
    "targets = df.target.values\n",
    "print(tweets[0])\n",
    "print(targets[0])"
   ]
  },
  {
   "cell_type": "markdown",
   "metadata": {},
   "source": [
    "### Tokenizing"
   ]
  },
  {
   "cell_type": "code",
   "execution_count": null,
   "metadata": {},
   "outputs": [],
   "source": [
    "from transformers import BertTokenizer\n",
    "\n",
    "for t in tweets:\n",
    "    token = tokenizer.encode(t,\n",
    "                             add_special_tokens = True,\n",
    "                             max_length = 144)"
   ]
  }
 ],
 "metadata": {
  "kernelspec": {
   "display_name": "Python 3",
   "language": "python",
   "name": "python3"
  },
  "language_info": {
   "codemirror_mode": {
    "name": "ipython",
    "version": 3
   },
   "file_extension": ".py",
   "mimetype": "text/x-python",
   "name": "python",
   "nbconvert_exporter": "python",
   "pygments_lexer": "ipython3",
   "version": "3.7.7"
  }
 },
 "nbformat": 4,
 "nbformat_minor": 4
}
