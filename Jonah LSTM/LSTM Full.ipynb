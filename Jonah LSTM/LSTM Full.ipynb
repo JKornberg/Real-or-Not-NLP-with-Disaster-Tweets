{
 "cells": [
  {
   "cell_type": "code",
   "execution_count": 8,
   "metadata": {},
   "outputs": [],
   "source": [
    "source_folder = '../Data/Processed/'\n",
    "destination_folder = '../Data/Processed/LSTM'"
   ]
  },
  {
   "cell_type": "code",
   "execution_count": 9,
   "metadata": {},
   "outputs": [],
   "source": [
    "# Libraries\n",
    "\n",
    "import matplotlib.pyplot as plt\n",
    "import pandas as pd\n",
    "import torch\n",
    "\n",
    "# Preliminaries\n",
    "\n",
    "from torchtext.data import Field, TabularDataset, BucketIterator\n",
    "\n",
    "# Models\n",
    "\n",
    "import torch.nn as nn\n",
    "from torch.nn.utils.rnn import pack_padded_sequence, pad_packed_sequence\n",
    "\n",
    "# Training\n",
    "\n",
    "import torch.optim as optim\n",
    "\n",
    "# Evaluation\n",
    "\n",
    "from sklearn.metrics import accuracy_score, classification_report, confusion_matrix\n",
    "import seaborn as sns"
   ]
  },
  {
   "cell_type": "code",
   "execution_count": 10,
   "metadata": {},
   "outputs": [
    {
     "name": "stdout",
     "output_type": "stream",
     "text": [
      "cuda:0\n"
     ]
    }
   ],
   "source": [
    "device = torch.device('cuda:0' if torch.cuda.is_available() else 'cpu')\n",
    "print(device)"
   ]
  },
  {
   "cell_type": "code",
   "execution_count": 11,
   "metadata": {},
   "outputs": [],
   "source": [
    "# Fields\n",
    "\n",
    "id_field = Field(sequential=False, use_vocab=False, batch_first=True,dtype=torch.int)\n",
    "label_field = Field(sequential=False, use_vocab=False, batch_first=True, dtype=torch.float)\n",
    "text_field = Field(tokenize='spacy', lower=True, include_lengths=True, batch_first=True)\n",
    "fields = [('target', label_field),('text', text_field),('id', id_field)]\n",
    "\n",
    "# TabularDataset\n",
    "\n",
    "train, valid, test = TabularDataset.splits(path=source_folder, train='train.csv', validation='valid.csv', test='test.csv',\n",
    "                                           format='CSV', fields=fields, skip_header=True)\n",
    "\n",
    "# Iterators\n",
    "\n",
    "train_iter = BucketIterator(train, batch_size=32, sort_key=lambda x: len(x.text),\n",
    "                            device=device, sort=True, sort_within_batch=True)\n",
    "valid_iter = BucketIterator(valid, batch_size=32, sort_key=lambda x: len(x.text),\n",
    "                            device=device, sort=True, sort_within_batch=True)\n",
    "\n",
    "# Vocabulary\n",
    "\n",
    "text_field.build_vocab(train, min_freq=3)"
   ]
  },
  {
   "cell_type": "code",
   "execution_count": 12,
   "metadata": {},
   "outputs": [],
   "source": [
    "class LSTM(nn.Module):\n",
    "\n",
    "    def __init__(self, dimension=128):\n",
    "        super(LSTM, self).__init__()\n",
    "\n",
    "        self.embedding = nn.Embedding(len(text_field.vocab), 300)\n",
    "        self.dimension = dimension\n",
    "        self.lstm = nn.LSTM(input_size=300,\n",
    "                            hidden_size=dimension,\n",
    "                            num_layers=1,\n",
    "                            batch_first=True,\n",
    "                            bidirectional=True)\n",
    "        self.drop = nn.Dropout(p=0.5)\n",
    "\n",
    "        self.fc = nn.Linear(2*dimension, 1)\n",
    "\n",
    "    def forward(self, text, text_len):\n",
    "\n",
    "        text_emb = self.embedding(text)\n",
    "\n",
    "        packed_input = pack_padded_sequence(text_emb, text_len, batch_first=True, enforce_sorted=False)\n",
    "        packed_output, _ = self.lstm(packed_input)\n",
    "        output, _ = pad_packed_sequence(packed_output, batch_first=True)\n",
    "\n",
    "        out_forward = output[range(len(output)), text_len - 1, :self.dimension]\n",
    "        out_reverse = output[:, 0, self.dimension:]\n",
    "        out_reduced = torch.cat((out_forward, out_reverse), 1)\n",
    "        text_fea = self.drop(out_reduced)\n",
    "\n",
    "        text_fea = self.fc(text_fea)\n",
    "        text_fea = torch.squeeze(text_fea, 1)\n",
    "        text_out = torch.sigmoid(text_fea)\n",
    "\n",
    "        return text_out"
   ]
  },
  {
   "cell_type": "code",
   "execution_count": 13,
   "metadata": {},
   "outputs": [],
   "source": [
    "# Save and Load Functions\n",
    "\n",
    "def save_checkpoint(save_path, model, optimizer, valid_loss):\n",
    "\n",
    "    if save_path == None:\n",
    "        return\n",
    "    \n",
    "    state_dict = {'model_state_dict': model.state_dict(),\n",
    "                  'optimizer_state_dict': optimizer.state_dict(),\n",
    "                  'valid_loss': valid_loss}\n",
    "    \n",
    "    torch.save(state_dict, save_path)\n",
    "    print(f'Model saved to ==> {save_path}')\n",
    "\n",
    "\n",
    "def load_checkpoint(load_path, model, optimizer):\n",
    "\n",
    "    if load_path==None:\n",
    "        return\n",
    "    \n",
    "    state_dict = torch.load(load_path, map_location=device)\n",
    "    print(f'Model loaded from <== {load_path}')\n",
    "    \n",
    "    model.load_state_dict(state_dict['model_state_dict'])\n",
    "    optimizer.load_state_dict(state_dict['optimizer_state_dict'])\n",
    "    \n",
    "    return state_dict['valid_loss']\n",
    "\n",
    "\n",
    "def save_metrics(save_path, train_loss_list, valid_loss_list, global_steps_list):\n",
    "\n",
    "    if save_path == None:\n",
    "        return\n",
    "    \n",
    "    state_dict = {'train_loss_list': train_loss_list,\n",
    "                  'valid_loss_list': valid_loss_list,\n",
    "                  'global_steps_list': global_steps_list}\n",
    "    \n",
    "    torch.save(state_dict, save_path)\n",
    "    print(f'Model saved to ==> {save_path}')\n",
    "\n",
    "\n",
    "def load_metrics(load_path):\n",
    "\n",
    "    if load_path==None:\n",
    "        return\n",
    "    \n",
    "    state_dict = torch.load(load_path, map_location=device)\n",
    "    print(f'Model loaded from <== {load_path}')\n",
    "    \n",
    "    return state_dict['train_loss_list'], state_dict['valid_loss_list'], state_dict['global_steps_list']"
   ]
  },
  {
   "cell_type": "code",
   "execution_count": 14,
   "metadata": {},
   "outputs": [],
   "source": [
    "# Training Function\n",
    "\n",
    "def train(model,\n",
    "          optimizer,\n",
    "          criterion = nn.BCELoss(),\n",
    "          train_loader = train_iter,\n",
    "          valid_loader = valid_iter,\n",
    "          num_epochs = 5,\n",
    "          eval_every = len(train_iter) // 2,\n",
    "          file_path = destination_folder,\n",
    "          best_valid_loss = float(\"Inf\")):\n",
    "    \n",
    "    # initialize running values\n",
    "    running_loss = 0.0\n",
    "    valid_running_loss = 0.0\n",
    "    global_step = 0\n",
    "    train_loss_list = []\n",
    "    valid_loss_list = []\n",
    "    global_steps_list = []\n",
    "\n",
    "    # training loop\n",
    "    model.train()\n",
    "    for epoch in range(num_epochs):\n",
    "        for (labels, (text, text_len), ids), _ in train_loader:           \n",
    "            labels = labels.to(device)\n",
    "            text = text.to(device)\n",
    "            text_len = text_len.to(device)\n",
    "            output = model(text, text_len)\n",
    "\n",
    "            loss = criterion(output, labels)\n",
    "            optimizer.zero_grad()\n",
    "            loss.backward()\n",
    "            optimizer.step()\n",
    "\n",
    "            # update running values\n",
    "            running_loss += loss.item()\n",
    "            global_step += 1\n",
    "\n",
    "            # evaluation step\n",
    "            if global_step % eval_every == 0:\n",
    "                model.eval()\n",
    "                with torch.no_grad():                    \n",
    "                  # validation loop\n",
    "                    for (labels, (text, text_len), ids),_ in valid_loader:\n",
    "                        labels = labels.to(device)\n",
    "                        text = text.to(device)\n",
    "                        text_len = text_len.to(device)\n",
    "                        output = model(text, text_len)\n",
    "                        loss = criterion(output, labels)\n",
    "                        valid_running_loss += loss.item()\n",
    "\n",
    "                # evaluation\n",
    "                average_train_loss = running_loss / eval_every\n",
    "                average_valid_loss = valid_running_loss / len(valid_loader)\n",
    "                train_loss_list.append(average_train_loss)\n",
    "                valid_loss_list.append(average_valid_loss)\n",
    "                global_steps_list.append(global_step)\n",
    "\n",
    "                # resetting running values\n",
    "                running_loss = 0.0                \n",
    "                valid_running_loss = 0.0\n",
    "                model.train()\n",
    "\n",
    "                # print progress\n",
    "                print('Epoch [{}/{}], Step [{}/{}], Train Loss: {:.4f}, Valid Loss: {:.4f}'\n",
    "                      .format(epoch+1, num_epochs, global_step, num_epochs*len(train_loader),\n",
    "                              average_train_loss, average_valid_loss))\n",
    "                \n",
    "                # checkpoint\n",
    "                if best_valid_loss > average_valid_loss:\n",
    "                    best_valid_loss = average_valid_loss\n",
    "                    save_checkpoint(file_path + '/model.pt', model, optimizer, best_valid_loss)\n",
    "                    save_metrics(file_path + '/metrics.pt', train_loss_list, valid_loss_list, global_steps_list)\n",
    "    \n",
    "    save_metrics(file_path + '/metrics.pt', train_loss_list, valid_loss_list, global_steps_list)\n",
    "    print('Finished Training!')"
   ]
  },
  {
   "cell_type": "code",
   "execution_count": 32,
   "metadata": {},
   "outputs": [
    {
     "name": "stdout",
     "output_type": "stream",
     "text": [
      "Epoch [1/10], Step [83/1670], Train Loss: 0.6595, Valid Loss: 0.6152\n",
      "Model saved to ==> ../Data/Processed/LSTM/model.pt\n",
      "Model saved to ==> ../Data/Processed/LSTM/metrics.pt\n",
      "Epoch [1/10], Step [166/1670], Train Loss: 0.6044, Valid Loss: 0.5513\n",
      "Model saved to ==> ../Data/Processed/LSTM/model.pt\n",
      "Model saved to ==> ../Data/Processed/LSTM/metrics.pt\n",
      "Epoch [2/10], Step [249/1670], Train Loss: 0.4845, Valid Loss: 0.5158\n",
      "Model saved to ==> ../Data/Processed/LSTM/model.pt\n",
      "Model saved to ==> ../Data/Processed/LSTM/metrics.pt\n",
      "Epoch [2/10], Step [332/1670], Train Loss: 0.4471, Valid Loss: 0.5038\n",
      "Model saved to ==> ../Data/Processed/LSTM/model.pt\n",
      "Model saved to ==> ../Data/Processed/LSTM/metrics.pt\n",
      "Epoch [3/10], Step [415/1670], Train Loss: 0.3461, Valid Loss: 0.5017\n",
      "Model saved to ==> ../Data/Processed/LSTM/model.pt\n",
      "Model saved to ==> ../Data/Processed/LSTM/metrics.pt\n",
      "Epoch [3/10], Step [498/1670], Train Loss: 0.3142, Valid Loss: 0.5446\n",
      "Epoch [4/10], Step [581/1670], Train Loss: 0.2405, Valid Loss: 0.5643\n",
      "Epoch [4/10], Step [664/1670], Train Loss: 0.2123, Valid Loss: 0.6429\n",
      "Epoch [5/10], Step [747/1670], Train Loss: 0.1498, Valid Loss: 0.6942\n",
      "Epoch [5/10], Step [830/1670], Train Loss: 0.1328, Valid Loss: 0.7388\n",
      "Epoch [6/10], Step [913/1670], Train Loss: 0.1021, Valid Loss: 0.8023\n",
      "Epoch [6/10], Step [996/1670], Train Loss: 0.0809, Valid Loss: 0.8079\n",
      "Epoch [7/10], Step [1079/1670], Train Loss: 0.0695, Valid Loss: 0.9747\n",
      "Epoch [7/10], Step [1162/1670], Train Loss: 0.0620, Valid Loss: 0.8969\n",
      "Epoch [8/10], Step [1245/1670], Train Loss: 0.0609, Valid Loss: 1.0184\n",
      "Epoch [8/10], Step [1328/1670], Train Loss: 0.0516, Valid Loss: 0.9108\n",
      "Epoch [9/10], Step [1411/1670], Train Loss: 0.0501, Valid Loss: 1.0632\n",
      "Epoch [9/10], Step [1494/1670], Train Loss: 0.0453, Valid Loss: 0.9939\n",
      "Epoch [10/10], Step [1577/1670], Train Loss: 0.0447, Valid Loss: 1.0939\n",
      "Epoch [10/10], Step [1660/1670], Train Loss: 0.0419, Valid Loss: 1.0286\n",
      "Model saved to ==> ../Data/Processed/LSTM/metrics.pt\n",
      "Finished Training!\n"
     ]
    }
   ],
   "source": [
    "model = LSTM().to(device)\n",
    "optimizer = optim.Adam(model.parameters(), lr=0.001)\n",
    "\n",
    "train(model=model, optimizer=optimizer, num_epochs=10)"
   ]
  },
  {
   "cell_type": "code",
   "execution_count": 33,
   "metadata": {},
   "outputs": [
    {
     "name": "stdout",
     "output_type": "stream",
     "text": [
      "Model loaded from <== ../Data/Processed/metrics.pt\n"
     ]
    },
    {
     "data": {
      "image/png": "[encoded data removed]",
      "text/plain": [
       "<Figure size 432x288 with 1 Axes>"
      ]
     },
     "metadata": {
      "needs_background": "light"
     },
     "output_type": "display_data"
    }
   ],
   "source": [
    "train_loss_list, valid_loss_list, global_steps_list = load_metrics(destination_folder + '/metrics.pt')\n",
    "plt.plot(global_steps_list, train_loss_list, label='Train')\n",
    "plt.plot(global_steps_list, valid_loss_list, label='Valid')\n",
    "plt.xlabel('Global Steps')\n",
    "plt.ylabel('Loss')\n",
    "plt.legend()\n",
    "plt.show() "
   ]
  },
  {
   "cell_type": "code",
   "execution_count": 34,
   "metadata": {},
   "outputs": [],
   "source": [
    "from datetime import datetime\n",
    "def evaluate_to_df(model, test_loader, threshold=0.5):\n",
    "    y_pred = []\n",
    "    y_id = []\n",
    "\n",
    "    model.eval()\n",
    "    with torch.no_grad():\n",
    "        for ((text, text_len),idn), _ in test_loader:     \n",
    "            text = text.to(device)\n",
    "            text_len = text_len.to(device)\n",
    "            output = model(text, text_len)\n",
    "\n",
    "            output = (output > threshold).int()\n",
    "            y_pred.extend(output.tolist())\n",
    "            y_id.extend(idn.tolist())\n",
    "    submission_df = pd.DataFrame()\n",
    "    submission_df['prediction'] = y_pred\n",
    "    submission_df['id'] = y_id\n",
    "    return submission_df"
   ]
  },
  {
   "cell_type": "code",
   "execution_count": 35,
   "metadata": {},
   "outputs": [
    {
     "name": "stdout",
     "output_type": "stream",
     "text": [
      "Model loaded from <== ../Data/Processed/model.pt\n"
     ]
    },
    {
     "ename": "RuntimeError",
     "evalue": "Error(s) in loading state_dict for LSTM:\n\tMissing key(s) in state_dict: \"embedding.weight\", \"lstm.weight_ih_l0\", \"lstm.weight_hh_l0\", \"lstm.bias_ih_l0\", \"lstm.bias_hh_l0\", \"lstm.weight_ih_l0_reverse\", \"lstm.weight_hh_l0_reverse\", \"lstm.bias_ih_l0_reverse\", \"lstm.bias_hh_l0_reverse\", \"fc.weight\", \"fc.bias\". \n\tUnexpected key(s) in state_dict: \"encoder.bert.embeddings.word_embeddings.weight\", \"encoder.bert.embeddings.position_embeddings.weight\", \"encoder.bert.embeddings.token_type_embeddings.weight\", \"encoder.bert.embeddings.LayerNorm.weight\", \"encoder.bert.embeddings.LayerNorm.bias\", \"encoder.bert.encoder.layer.0.attention.self.query.weight\", \"encoder.bert.encoder.layer.0.attention.self.query.bias\", \"encoder.bert.encoder.layer.0.attention.self.key.weight\", \"encoder.bert.encoder.layer.0.attention.self.key.bias\", \"encoder.bert.encoder.layer.0.attention.self.value.weight\", \"encoder.bert.encoder.layer.0.attention.self.value.bias\", \"encoder.bert.encoder.layer.0.attention.output.dense.weight\", \"encoder.bert.encoder.layer.0.attention.output.dense.bias\", \"encoder.bert.encoder.layer.0.attention.output.LayerNorm.weight\", \"encoder.bert.encoder.layer.0.attention.output.LayerNorm.bias\", \"encoder.bert.encoder.layer.0.intermediate.dense.weight\", \"encoder.bert.encoder.layer.0.intermediate.dense.bias\", \"encoder.bert.encoder.layer.0.output.dense.weight\", \"encoder.bert.encoder.layer.0.output.dense.bias\", \"encoder.bert.encoder.layer.0.output.LayerNorm.weight\", \"encoder.bert.encoder.layer.0.output.LayerNorm.bias\", \"encoder.bert.encoder.layer.1.attention.self.query.weight\", \"encoder.bert.encoder.layer.1.attention.self.query.bias\", \"encoder.bert.encoder.layer.1.attention.self.key.weight\", \"encoder.bert.encoder.layer.1.attention.self.key.bias\", \"encoder.bert.encoder.layer.1.attention.self.value.weight\", \"encoder.bert.encoder.layer.1.attention.self.value.bias\", \"encoder.bert.encoder.layer.1.attention.output.dense.weight\", \"encoder.bert.encoder.layer.1.attention.output.dense.bias\", \"encoder.bert.encoder.layer.1.attention.output.LayerNorm.weight\", \"encoder.bert.encoder.layer.1.attention.output.LayerNorm.bias\", \"encoder.bert.encoder.layer.1.intermediate.dense.weight\", \"encoder.bert.encoder.layer.1.intermediate.dense.bias\", \"encoder.bert.encoder.layer.1.output.dense.weight\", \"encoder.bert.encoder.layer.1.output.dense.bias\", \"encoder.bert.encoder.layer.1.output.LayerNorm.weight\", \"encoder.bert.encoder.layer.1.output.LayerNorm.bias\", \"encoder.bert.encoder.layer.2.attention.self.query.weight\", \"encoder.bert.encoder.layer.2.attention.self.query.bias\", \"encoder.bert.encoder.layer.2.attention.self.key.weight\", \"encoder.bert.encoder.layer.2.attention.self.key.bias\", \"encoder.bert.encoder.layer.2.attention.self.value.weight\", \"encoder.bert.encoder.layer.2.attention.self.value.bias\", \"encoder.bert.encoder.layer.2.attention.output.dense.weight\", \"encoder.bert.encoder.layer.2.attention.output.dense.bias\", \"encoder.bert.encoder.layer.2.attention.output.LayerNorm.weight\", \"encoder.bert.encoder.layer.2.attention.output.LayerNorm.bias\", \"encoder.bert.encoder.layer.2.intermediate.dense.weight\", \"encoder.bert.encoder.layer.2.intermediate.dense.bias\", \"encoder.bert.encoder.layer.2.output.dense.weight\", \"encoder.bert.encoder.layer.2.output.dense.bias\", \"encoder.bert.encoder.layer.2.output.LayerNorm.weight\", \"encoder.bert.encoder.layer.2.output.LayerNorm.bias\", \"encoder.bert.encoder.layer.3.attention.self.query.weight\", \"encoder.bert.encoder.layer.3.attention.self.query.bias\", \"encoder.bert.encoder.layer.3.attention.self.key.weight\", \"encoder.bert.encoder.layer.3.attention.self.key.bias\", \"encoder.bert.encoder.layer.3.attention.self.value.weight\", \"encoder.bert.encoder.layer.3.attention.self.value.bias\", \"encoder.bert.encoder.layer.3.attention.output.dense.weight\", \"encoder.bert.encoder.layer.3.attention.output.dense.bias\", \"encoder.bert.encoder.layer.3.attention.output.LayerNorm.weight\", \"encoder.bert.encoder.layer.3.attention.output.LayerNorm.bias\", \"encoder.bert.encoder.layer.3.intermediate.dense.weight\", \"encoder.bert.encoder.layer.3.intermediate.dense.bias\", \"encoder.bert.encoder.layer.3.output.dense.weight\", \"encoder.bert.encoder.layer.3.output.dense.bias\", \"encoder.bert.encoder.layer.3.output.LayerNorm.weight\", \"encoder.bert.encoder.layer.3.output.LayerNorm.bias\", \"encoder.bert.encoder.layer.4.attention.self.query.weight\", \"encoder.bert.encoder.layer.4.attention.self.query.bias\", \"encoder.bert.encoder.layer.4.attention.self.key.weight\", \"encoder.bert.encoder.layer.4.attention.self.key.bias\", \"encoder.bert.encoder.layer.4.attention.self.value.weight\", \"encoder.bert.encoder.layer.4.attention.self.value.bias\", \"encoder.bert.encoder.layer.4.attention.output.dense.weight\", \"encoder.bert.encoder.layer.4.attention.output.dense.bias\", \"encoder.bert.encoder.layer.4.attention.output.LayerNorm.weight\", \"encoder.bert.encoder.layer.4.attention.output.LayerNorm.bias\", \"encoder.bert.encoder.layer.4.intermediate.dense.weight\", \"encoder.bert.encoder.layer.4.intermediate.dense.bias\", \"encoder.bert.encoder.layer.4.output.dense.weight\", \"encoder.bert.encoder.layer.4.output.dense.bias\", \"encoder.bert.encoder.layer.4.output.LayerNorm.weight\", \"encoder.bert.encoder.layer.4.output.LayerNorm.bias\", \"encoder.bert.encoder.layer.5.attention.self.query.weight\", \"encoder.bert.encoder.layer.5.attention.self.query.bias\", \"encoder.bert.encoder.layer.5.attention.self.key.weight\", \"encoder.bert.encoder.layer.5.attention.self.key.bias\", \"encoder.bert.encoder.layer.5.attention.self.value.weight\", \"encoder.bert.encoder.layer.5.attention.self.value.bias\", \"encoder.bert.encoder.layer.5.attention.output.dense.weight\", \"encoder.bert.encoder.layer.5.attention.output.dense.bias\", \"encoder.bert.encoder.layer.5.attention.output.LayerNorm.weight\", \"encoder.bert.encoder.layer.5.attention.output.LayerNorm.bias\", \"encoder.bert.encoder.layer.5.intermediate.dense.weight\", \"encoder.bert.encoder.layer.5.intermediate.dense.bias\", \"encoder.bert.encoder.layer.5.output.dense.weight\", \"encoder.bert.encoder.layer.5.output.dense.bias\", \"encoder.bert.encoder.layer.5.output.LayerNorm.weight\", \"encoder.bert.encoder.layer.5.output.LayerNorm.bias\", \"encoder.bert.encoder.layer.6.attention.self.query.weight\", \"encoder.bert.encoder.layer.6.attention.self.query.bias\", \"encoder.bert.encoder.layer.6.attention.self.key.weight\", \"encoder.bert.encoder.layer.6.attention.self.key.bias\", \"encoder.bert.encoder.layer.6.attention.self.value.weight\", \"encoder.bert.encoder.layer.6.attention.self.value.bias\", \"encoder.bert.encoder.layer.6.attention.output.dense.weight\", \"encoder.bert.encoder.layer.6.attention.output.dense.bias\", \"encoder.bert.encoder.layer.6.attention.output.LayerNorm.weight\", \"encoder.bert.encoder.layer.6.attention.output.LayerNorm.bias\", \"encoder.bert.encoder.layer.6.intermediate.dense.weight\", \"encoder.bert.encoder.layer.6.intermediate.dense.bias\", \"encoder.bert.encoder.layer.6.output.dense.weight\", \"encoder.bert.encoder.layer.6.output.dense.bias\", \"encoder.bert.encoder.layer.6.output.LayerNorm.weight\", \"encoder.bert.encoder.layer.6.output.LayerNorm.bias\", \"encoder.bert.encoder.layer.7.attention.self.query.weight\", \"encoder.bert.encoder.layer.7.attention.self.query.bias\", \"encoder.bert.encoder.layer.7.attention.self.key.weight\", \"encoder.bert.encoder.layer.7.attention.self.key.bias\", \"encoder.bert.encoder.layer.7.attention.self.value.weight\", \"encoder.bert.encoder.layer.7.attention.self.value.bias\", \"encoder.bert.encoder.layer.7.attention.output.dense.weight\", \"encoder.bert.encoder.layer.7.attention.output.dense.bias\", \"encoder.bert.encoder.layer.7.attention.output.LayerNorm.weight\", \"encoder.bert.encoder.layer.7.attention.output.LayerNorm.bias\", \"encoder.bert.encoder.layer.7.intermediate.dense.weight\", \"encoder.bert.encoder.layer.7.intermediate.dense.bias\", \"encoder.bert.encoder.layer.7.output.dense.weight\", \"encoder.bert.encoder.layer.7.output.dense.bias\", \"encoder.bert.encoder.layer.7.output.LayerNorm.weight\", \"encoder.bert.encoder.layer.7.output.LayerNorm.bias\", \"encoder.bert.encoder.layer.8.attention.self.query.weight\", \"encoder.bert.encoder.layer.8.attention.self.query.bias\", \"encoder.bert.encoder.layer.8.attention.self.key.weight\", \"encoder.bert.encoder.layer.8.attention.self.key.bias\", \"encoder.bert.encoder.layer.8.attention.self.value.weight\", \"encoder.bert.encoder.layer.8.attention.self.value.bias\", \"encoder.bert.encoder.layer.8.attention.output.dense.weight\", \"encoder.bert.encoder.layer.8.attention.output.dense.bias\", \"encoder.bert.encoder.layer.8.attention.output.LayerNorm.weight\", \"encoder.bert.encoder.layer.8.attention.output.LayerNorm.bias\", \"encoder.bert.encoder.layer.8.intermediate.dense.weight\", \"encoder.bert.encoder.layer.8.intermediate.dense.bias\", \"encoder.bert.encoder.layer.8.output.dense.weight\", \"encoder.bert.encoder.layer.8.output.dense.bias\", \"encoder.bert.encoder.layer.8.output.LayerNorm.weight\", \"encoder.bert.encoder.layer.8.output.LayerNorm.bias\", \"encoder.bert.encoder.layer.9.attention.self.query.weight\", \"encoder.bert.encoder.layer.9.attention.self.query.bias\", \"encoder.bert.encoder.layer.9.attention.self.key.weight\", \"encoder.bert.encoder.layer.9.attention.self.key.bias\", \"encoder.bert.encoder.layer.9.attention.self.value.weight\", \"encoder.bert.encoder.layer.9.attention.self.value.bias\", \"encoder.bert.encoder.layer.9.attention.output.dense.weight\", \"encoder.bert.encoder.layer.9.attention.output.dense.bias\", \"encoder.bert.encoder.layer.9.attention.output.LayerNorm.weight\", \"encoder.bert.encoder.layer.9.attention.output.LayerNorm.bias\", \"encoder.bert.encoder.layer.9.intermediate.dense.weight\", \"encoder.bert.encoder.layer.9.intermediate.dense.bias\", \"encoder.bert.encoder.layer.9.output.dense.weight\", \"encoder.bert.encoder.layer.9.output.dense.bias\", \"encoder.bert.encoder.layer.9.output.LayerNorm.weight\", \"encoder.bert.encoder.layer.9.output.LayerNorm.bias\", \"encoder.bert.encoder.layer.10.attention.self.query.weight\", \"encoder.bert.encoder.layer.10.attention.self.query.bias\", \"encoder.bert.encoder.layer.10.attention.self.key.weight\", \"encoder.bert.encoder.layer.10.attention.self.key.bias\", \"encoder.bert.encoder.layer.10.attention.self.value.weight\", \"encoder.bert.encoder.layer.10.attention.self.value.bias\", \"encoder.bert.encoder.layer.10.attention.output.dense.weight\", \"encoder.bert.encoder.layer.10.attention.output.dense.bias\", \"encoder.bert.encoder.layer.10.attention.output.LayerNorm.weight\", \"encoder.bert.encoder.layer.10.attention.output.LayerNorm.bias\", \"encoder.bert.encoder.layer.10.intermediate.dense.weight\", \"encoder.bert.encoder.layer.10.intermediate.dense.bias\", \"encoder.bert.encoder.layer.10.output.dense.weight\", \"encoder.bert.encoder.layer.10.output.dense.bias\", \"encoder.bert.encoder.layer.10.output.LayerNorm.weight\", \"encoder.bert.encoder.layer.10.output.LayerNorm.bias\", \"encoder.bert.encoder.layer.11.attention.self.query.weight\", \"encoder.bert.encoder.layer.11.attention.self.query.bias\", \"encoder.bert.encoder.layer.11.attention.self.key.weight\", \"encoder.bert.encoder.layer.11.attention.self.key.bias\", \"encoder.bert.encoder.layer.11.attention.self.value.weight\", \"encoder.bert.encoder.layer.11.attention.self.value.bias\", \"encoder.bert.encoder.layer.11.attention.output.dense.weight\", \"encoder.bert.encoder.layer.11.attention.output.dense.bias\", \"encoder.bert.encoder.layer.11.attention.output.LayerNorm.weight\", \"encoder.bert.encoder.layer.11.attention.output.LayerNorm.bias\", \"encoder.bert.encoder.layer.11.intermediate.dense.weight\", \"encoder.bert.encoder.layer.11.intermediate.dense.bias\", \"encoder.bert.encoder.layer.11.output.dense.weight\", \"encoder.bert.encoder.layer.11.output.dense.bias\", \"encoder.bert.encoder.layer.11.output.LayerNorm.weight\", \"encoder.bert.encoder.layer.11.output.LayerNorm.bias\", \"encoder.bert.pooler.dense.weight\", \"encoder.bert.pooler.dense.bias\", \"encoder.classifier.weight\", \"encoder.classifier.bias\". ",
     "output_type": "error",
     "traceback": [
      "\u001b[1;31m---------------------------------------------------------------------------\u001b[0m",
      "\u001b[1;31mRuntimeError\u001b[0m                              Traceback (most recent call last)",
      "\u001b[1;32m<ipython-input-35-82b7048dceff>\u001b[0m in \u001b[0;36m<module>\u001b[1;34m\u001b[0m\n\u001b[0;32m      2\u001b[0m \u001b[0moptimizer\u001b[0m \u001b[1;33m=\u001b[0m \u001b[0moptim\u001b[0m\u001b[1;33m.\u001b[0m\u001b[0mAdam\u001b[0m\u001b[1;33m(\u001b[0m\u001b[0mbest_model\u001b[0m\u001b[1;33m.\u001b[0m\u001b[0mparameters\u001b[0m\u001b[1;33m(\u001b[0m\u001b[1;33m)\u001b[0m\u001b[1;33m,\u001b[0m \u001b[0mlr\u001b[0m\u001b[1;33m=\u001b[0m\u001b[1;36m0.0005\u001b[0m\u001b[1;33m)\u001b[0m\u001b[1;33m\u001b[0m\u001b[1;33m\u001b[0m\u001b[0m\n\u001b[0;32m      3\u001b[0m \u001b[1;33m\u001b[0m\u001b[0m\n\u001b[1;32m----> 4\u001b[1;33m \u001b[0mload_checkpoint\u001b[0m\u001b[1;33m(\u001b[0m\u001b[0mdestination_folder\u001b[0m \u001b[1;33m+\u001b[0m \u001b[1;34m'/model.pt'\u001b[0m\u001b[1;33m,\u001b[0m \u001b[0mbest_model\u001b[0m\u001b[1;33m,\u001b[0m \u001b[0moptimizer\u001b[0m\u001b[1;33m)\u001b[0m\u001b[1;33m\u001b[0m\u001b[1;33m\u001b[0m\u001b[0m\n\u001b[0m",
      "\u001b[1;32m<ipython-input-13-63f76c5eeb1b>\u001b[0m in \u001b[0;36mload_checkpoint\u001b[1;34m(load_path, model, optimizer)\u001b[0m\n\u001b[0;32m     22\u001b[0m     \u001b[0mprint\u001b[0m\u001b[1;33m(\u001b[0m\u001b[1;34mf'Model loaded from <== {load_path}'\u001b[0m\u001b[1;33m)\u001b[0m\u001b[1;33m\u001b[0m\u001b[1;33m\u001b[0m\u001b[0m\n\u001b[0;32m     23\u001b[0m \u001b[1;33m\u001b[0m\u001b[0m\n\u001b[1;32m---> 24\u001b[1;33m     \u001b[0mmodel\u001b[0m\u001b[1;33m.\u001b[0m\u001b[0mload_state_dict\u001b[0m\u001b[1;33m(\u001b[0m\u001b[0mstate_dict\u001b[0m\u001b[1;33m[\u001b[0m\u001b[1;34m'model_state_dict'\u001b[0m\u001b[1;33m]\u001b[0m\u001b[1;33m)\u001b[0m\u001b[1;33m\u001b[0m\u001b[1;33m\u001b[0m\u001b[0m\n\u001b[0m\u001b[0;32m     25\u001b[0m     \u001b[0moptimizer\u001b[0m\u001b[1;33m.\u001b[0m\u001b[0mload_state_dict\u001b[0m\u001b[1;33m(\u001b[0m\u001b[0mstate_dict\u001b[0m\u001b[1;33m[\u001b[0m\u001b[1;34m'optimizer_state_dict'\u001b[0m\u001b[1;33m]\u001b[0m\u001b[1;33m)\u001b[0m\u001b[1;33m\u001b[0m\u001b[1;33m\u001b[0m\u001b[0m\n\u001b[0;32m     26\u001b[0m \u001b[1;33m\u001b[0m\u001b[0m\n",
      "\u001b[1;32m~\\Anaconda3\\envs\\opencv\\lib\\site-packages\\torch\\nn\\modules\\module.py\u001b[0m in \u001b[0;36mload_state_dict\u001b[1;34m(self, state_dict, strict)\u001b[0m\n\u001b[0;32m    843\u001b[0m         \u001b[1;32mif\u001b[0m \u001b[0mlen\u001b[0m\u001b[1;33m(\u001b[0m\u001b[0merror_msgs\u001b[0m\u001b[1;33m)\u001b[0m \u001b[1;33m>\u001b[0m \u001b[1;36m0\u001b[0m\u001b[1;33m:\u001b[0m\u001b[1;33m\u001b[0m\u001b[1;33m\u001b[0m\u001b[0m\n\u001b[0;32m    844\u001b[0m             raise RuntimeError('Error(s) in loading state_dict for {}:\\n\\t{}'.format(\n\u001b[1;32m--> 845\u001b[1;33m                                self.__class__.__name__, \"\\n\\t\".join(error_msgs)))\n\u001b[0m\u001b[0;32m    846\u001b[0m         \u001b[1;32mreturn\u001b[0m \u001b[0m_IncompatibleKeys\u001b[0m\u001b[1;33m(\u001b[0m\u001b[0mmissing_keys\u001b[0m\u001b[1;33m,\u001b[0m \u001b[0munexpected_keys\u001b[0m\u001b[1;33m)\u001b[0m\u001b[1;33m\u001b[0m\u001b[1;33m\u001b[0m\u001b[0m\n\u001b[0;32m    847\u001b[0m \u001b[1;33m\u001b[0m\u001b[0m\n",
      "\u001b[1;31mRuntimeError\u001b[0m: Error(s) in loading state_dict for LSTM:\n\tMissing key(s) in state_dict: \"embedding.weight\", \"lstm.weight_ih_l0\", \"lstm.weight_hh_l0\", \"lstm.bias_ih_l0\", \"lstm.bias_hh_l0\", \"lstm.weight_ih_l0_reverse\", \"lstm.weight_hh_l0_reverse\", \"lstm.bias_ih_l0_reverse\", \"lstm.bias_hh_l0_reverse\", \"fc.weight\", \"fc.bias\". \n\tUnexpected key(s) in state_dict: \"encoder.bert.embeddings.word_embeddings.weight\", \"encoder.bert.embeddings.position_embeddings.weight\", \"encoder.bert.embeddings.token_type_embeddings.weight\", \"encoder.bert.embeddings.LayerNorm.weight\", \"encoder.bert.embeddings.LayerNorm.bias\", \"encoder.bert.encoder.layer.0.attention.self.query.weight\", \"encoder.bert.encoder.layer.0.attention.self.query.bias\", \"encoder.bert.encoder.layer.0.attention.self.key.weight\", \"encoder.bert.encoder.layer.0.attention.self.key.bias\", \"encoder.bert.encoder.layer.0.attention.self.value.weight\", \"encoder.bert.encoder.layer.0.attention.self.value.bias\", \"encoder.bert.encoder.layer.0.attention.output.dense.weight\", \"encoder.bert.encoder.layer.0.attention.output.dense.bias\", \"encoder.bert.encoder.layer.0.attention.output.LayerNorm.weight\", \"encoder.bert.encoder.layer.0.attention.output.LayerNorm.bias\", \"encoder.bert.encoder.layer.0.intermediate.dense.weight\", \"encoder.bert.encoder.layer.0.intermediate.dense.bias\", \"encoder.bert.encoder.layer.0.output.dense.weight\", \"encoder.bert.encoder.layer.0.output.dense.bias\", \"encoder.bert.encoder.layer.0.output.LayerNorm.weight\", \"encoder.bert.encoder.layer.0.output.LayerNorm.bias\", \"encoder.bert.encoder.layer.1.attention.self.query.weight\", \"encoder.bert.encoder.layer.1.attention.self.query.bias\", \"encoder.bert.encoder.layer.1.attention.self.key.weight\", \"encoder.bert.encoder.layer.1.attention.self.key.bias\", \"encoder.bert.encoder.layer.1.attention.self.value.weight\", \"encoder.bert.encoder.layer.1.attention.self.value.bias\", \"encoder.bert.encoder.layer.1.attention.output.dense.weight\", \"encoder.bert.encoder.layer.1.attention.output.dense.bias\", \"encoder.bert.encoder.layer.1.attention.output.LayerNorm.weight\", \"encoder.bert.encoder.layer.1.attention.output.LayerNorm.bias\", \"encoder.bert.encoder.layer.1.intermediate.dense.weight\", \"encoder.bert.encoder.layer.1.intermediate.dense.bias\", \"encoder.bert.encoder.layer.1.output.dense.weight\", \"encoder.bert.encoder.layer.1.output.dense.bias\", \"encoder.bert.encoder.layer.1.output.LayerNorm.weight\", \"encoder.bert.encoder.layer.1.output.LayerNorm.bias\", \"encoder.bert.encoder.layer.2.attention.self.query.weight\", \"encoder.bert.encoder.layer.2.attention.self.query.bias\", \"encoder.bert.encoder.layer.2.attention.self.key.weight\", \"encoder.bert.encoder.layer.2.attention.self.key.bias\", \"encoder.bert.encoder.layer.2.attention.self.value.weight\", \"encoder.bert.encoder.layer.2.attention.self.value.bias\", \"encoder.bert.encoder.layer.2.attention.output.dense.weight\", \"encoder.bert.encoder.layer.2.attention.output.dense.bias\", \"encoder.bert.encoder.layer.2.attention.output.LayerNorm.weight\", \"encoder.bert.encoder.layer.2.attention.output.LayerNorm.bias\", \"encoder.bert.encoder.layer.2.intermediate.dense.weight\", \"encoder.bert.encoder.layer.2.intermediate.dense.bias\", \"encoder.bert.encoder.layer.2.output.dense.weight\", \"encoder.bert.encoder.layer.2.output.dense.bias\", \"encoder.bert.encoder.layer.2.output.LayerNorm.weight\", \"encoder.bert.encoder.layer.2.output.LayerNorm.bias\", \"encoder.bert.encoder.layer.3.attention.self.query.weight\", \"encoder.bert.encoder.layer.3.attention.self.query.bias\", \"encoder.bert.encoder.layer.3.attention.self.key.weight\", \"encoder.bert.encoder.layer.3.attention.self.key.bias\", \"encoder.bert.encoder.layer.3.attention.self.value.weight\", \"encoder.bert.encoder.layer.3.attention.self.value.bias\", \"encoder.bert.encoder.layer.3.attention.output.dense.weight\", \"encoder.bert.encoder.layer.3.attention.output.dense.bias\", \"encoder.bert.encoder.layer.3.attention.output.LayerNorm.weight\", \"encoder.bert.encoder.layer.3.attention.output.LayerNorm.bias\", \"encoder.bert.encoder.layer.3.intermediate.dense.weight\", \"encoder.bert.encoder.layer.3.intermediate.dense.bias\", \"encoder.bert.encoder.layer.3.output.dense.weight\", \"encoder.bert.encoder.layer.3.output.dense.bias\", \"encoder.bert.encoder.layer.3.output.LayerNorm.weight\", \"encoder.bert.encoder.layer.3.output.LayerNorm.bias\", \"encoder.bert.encoder.layer.4.attention.self.query.weight\", \"encoder.bert.encoder.layer.4.attention.self.query.bias\", \"encoder.bert.encoder.layer.4.attention.self.key.weight\", \"encoder.bert.encoder.layer.4.attention.self.key.bias\", \"encoder.bert.encoder.layer.4.attention.self.value.weight\", \"encoder.bert.encoder.layer.4.attention.self.value.bias\", \"encoder.bert.encoder.layer.4.attention.output.dense.weight\", \"encoder.bert.encoder.layer.4.attention.output.dense.bias\", \"encoder.bert.encoder.layer.4.attention.output.LayerNorm.weight\", \"encoder.bert.encoder.layer.4.attention.output.LayerNorm.bias\", \"encoder.bert.encoder.layer.4.intermediate.dense.weight\", \"encoder.bert.encoder.layer.4.intermediate.dense.bias\", \"encoder.bert.encoder.layer.4.output.dense.weight\", \"encoder.bert.encoder.layer.4.output.dense.bias\", \"encoder.bert.encoder.layer.4.output.LayerNorm.weight\", \"encoder.bert.encoder.layer.4.output.LayerNorm.bias\", \"encoder.bert.encoder.layer.5.attention.self.query.weight\", \"encoder.bert.encoder.layer.5.attention.self.query.bias\", \"encoder.bert.encoder.layer.5.attention.self.key.weight\", \"encoder.bert.encoder.layer.5.attention.self.key.bias\", \"encoder.bert.encoder.layer.5.attention.self.value.weight\", \"encoder.bert.encoder.layer.5.attention.self.value.bias\", \"encoder.bert.encoder.layer.5.attention.output.dense.weight\", \"encoder.bert.encoder.layer.5.attention.output.dense.bias\", \"encoder.bert.encoder.layer.5.attention.output.LayerNorm.weight\", \"encoder.bert.encoder.layer.5.attention.output.LayerNorm.bias\", \"encoder.bert.encoder.layer.5.intermediate.dense.weight\", \"encoder.bert.encoder.layer.5.intermediate.dense.bias\", \"encoder.bert.encoder.layer.5.output.dense.weight\", \"encoder.bert.encoder.layer.5.output.dense.bias\", \"encoder.bert.encoder.layer.5.output.LayerNorm.weight\", \"encoder.bert.encoder.layer.5.output.LayerNorm.bias\", \"encoder.bert.encoder.layer.6.attention.self.query.weight\", \"encoder.bert.encoder.layer.6.attention.self.query.bias\", \"encoder.bert.encoder.layer.6.attention.self.key.weight\", \"encoder.bert.encoder.layer.6.attention.self.key.bias\", \"encoder.bert.encoder.layer.6.attention.self.value.weight\", \"encoder.bert.encoder.layer.6.attention.self.value.bias\", \"encoder.bert.encoder.layer.6.attention.output.dense.weight\", \"encoder.bert.encoder.layer.6.attention.output.dense.bias\", \"encoder.bert.encoder.layer.6.attention.output.LayerNorm.weight\", \"encoder.bert.encoder.layer.6.attention.output.LayerNorm.bias\", \"encoder.bert.encoder.layer.6.intermediate.dense.weight\", \"encoder.bert.encoder.layer.6.intermediate.dense.bias\", \"encoder.bert.encoder.layer.6.output.dense.weight\", \"encoder.bert.encoder.layer.6.output.dense.bias\", \"encoder.bert.encoder.layer.6.output.LayerNorm.weight\", \"encoder.bert.encoder.layer.6.output.LayerNorm.bias\", \"encoder.bert.encoder.layer.7.attention.self.query.weight\", \"encoder.bert.encoder.layer.7.attention.self.query.bias\", \"encoder.bert.encoder.layer.7.attention.self.key.weight\", \"encoder.bert.encoder.layer.7.attention.self.key.bias\", \"encoder.bert.encoder.layer.7.attention.self.value.weight\", \"encoder.bert.encoder.layer.7.attention.self.value.bias\", \"encoder.bert.encoder.layer.7.attention.output.dense.weight\", \"encoder.bert.encoder.layer.7.attention.output.dense.bias\", \"encoder.bert.encoder.layer.7.attention.output.LayerNorm.weight\", \"encoder.bert.encoder.layer.7.attention.output.LayerNorm.bias\", \"encoder.bert.encoder.layer.7.intermediate.dense.weight\", \"encoder.bert.encoder.layer.7.intermediate.dense.bias\", \"encoder.bert.encoder.layer.7.output.dense.weight\", \"encoder.bert.encoder.layer.7.output.dense.bias\", \"encoder.bert.encoder.layer.7.output.LayerNorm.weight\", \"encoder.bert.encoder.layer.7.output.LayerNorm.bias\", \"encoder.bert.encoder.layer.8.attention.self.query.weight\", \"encoder.bert.encoder.layer.8.attention.self.query.bias\", \"encoder.bert.encoder.layer.8.attention.self.key.weight\", \"encoder.bert.encoder.layer.8.attention.self.key.bias\", \"encoder.bert.encoder.layer.8.attention.self.value.weight\", \"encoder.bert.encoder.layer.8.attention.self.value.bias\", \"encoder.bert.encoder.layer.8.attention.output.dense.weight\", \"encoder.bert.encoder.layer.8.attention.output.dense.bias\", \"encoder.bert.encoder.layer.8.attention.output.LayerNorm.weight\", \"encoder.bert.encoder.layer.8.attention.output.LayerNorm.bias\", \"encoder.bert.encoder.layer.8.intermediate.dense.weight\", \"encoder.bert.encoder.layer.8.intermediate.dense.bias\", \"encoder.bert.encoder.layer.8.output.dense.weight\", \"encoder.bert.encoder.layer.8.output.dense.bias\", \"encoder.bert.encoder.layer.8.output.LayerNorm.weight\", \"encoder.bert.encoder.layer.8.output.LayerNorm.bias\", \"encoder.bert.encoder.layer.9.attention.self.query.weight\", \"encoder.bert.encoder.layer.9.attention.self.query.bias\", \"encoder.bert.encoder.layer.9.attention.self.key.weight\", \"encoder.bert.encoder.layer.9.attention.self.key.bias\", \"encoder.bert.encoder.layer.9.attention.self.value.weight\", \"encoder.bert.encoder.layer.9.attention.self.value.bias\", \"encoder.bert.encoder.layer.9.attention.output.dense.weight\", \"encoder.bert.encoder.layer.9.attention.output.dense.bias\", \"encoder.bert.encoder.layer.9.attention.output.LayerNorm.weight\", \"encoder.bert.encoder.layer.9.attention.output.LayerNorm.bias\", \"encoder.bert.encoder.layer.9.intermediate.dense.weight\", \"encoder.bert.encoder.layer.9.intermediate.dense.bias\", \"encoder.bert.encoder.layer.9.output.dense.weight\", \"encoder.bert.encoder.layer.9.output.dense.bias\", \"encoder.bert.encoder.layer.9.output.LayerNorm.weight\", \"encoder.bert.encoder.layer.9.output.LayerNorm.bias\", \"encoder.bert.encoder.layer.10.attention.self.query.weight\", \"encoder.bert.encoder.layer.10.attention.self.query.bias\", \"encoder.bert.encoder.layer.10.attention.self.key.weight\", \"encoder.bert.encoder.layer.10.attention.self.key.bias\", \"encoder.bert.encoder.layer.10.attention.self.value.weight\", \"encoder.bert.encoder.layer.10.attention.self.value.bias\", \"encoder.bert.encoder.layer.10.attention.output.dense.weight\", \"encoder.bert.encoder.layer.10.attention.output.dense.bias\", \"encoder.bert.encoder.layer.10.attention.output.LayerNorm.weight\", \"encoder.bert.encoder.layer.10.attention.output.LayerNorm.bias\", \"encoder.bert.encoder.layer.10.intermediate.dense.weight\", \"encoder.bert.encoder.layer.10.intermediate.dense.bias\", \"encoder.bert.encoder.layer.10.output.dense.weight\", \"encoder.bert.encoder.layer.10.output.dense.bias\", \"encoder.bert.encoder.layer.10.output.LayerNorm.weight\", \"encoder.bert.encoder.layer.10.output.LayerNorm.bias\", \"encoder.bert.encoder.layer.11.attention.self.query.weight\", \"encoder.bert.encoder.layer.11.attention.self.query.bias\", \"encoder.bert.encoder.layer.11.attention.self.key.weight\", \"encoder.bert.encoder.layer.11.attention.self.key.bias\", \"encoder.bert.encoder.layer.11.attention.self.value.weight\", \"encoder.bert.encoder.layer.11.attention.self.value.bias\", \"encoder.bert.encoder.layer.11.attention.output.dense.weight\", \"encoder.bert.encoder.layer.11.attention.output.dense.bias\", \"encoder.bert.encoder.layer.11.attention.output.LayerNorm.weight\", \"encoder.bert.encoder.layer.11.attention.output.LayerNorm.bias\", \"encoder.bert.encoder.layer.11.intermediate.dense.weight\", \"encoder.bert.encoder.layer.11.intermediate.dense.bias\", \"encoder.bert.encoder.layer.11.output.dense.weight\", \"encoder.bert.encoder.layer.11.output.dense.bias\", \"encoder.bert.encoder.layer.11.output.LayerNorm.weight\", \"encoder.bert.encoder.layer.11.output.LayerNorm.bias\", \"encoder.bert.pooler.dense.weight\", \"encoder.bert.pooler.dense.bias\", \"encoder.classifier.weight\", \"encoder.classifier.bias\". "
     ]
    }
   ],
   "source": [
    "best_model = LSTM().to(device)\n",
    "optimizer = optim.Adam(best_model.parameters(), lr=0.0005)\n",
    "\n",
    "load_checkpoint(destination_folder + '/model.pt', best_model, optimizer)"
   ]
  },
  {
   "cell_type": "code",
   "execution_count": 19,
   "metadata": {},
   "outputs": [
    {
     "name": "stderr",
     "output_type": "stream",
     "text": [
      "C:\\Users\\JBKec\\Anaconda3\\envs\\opencv\\lib\\site-packages\\pandas\\core\\frame.py:7123: FutureWarning: Sorting because non-concatenation axis is not aligned. A future version\n",
      "of pandas will change to not sort by default.\n",
      "\n",
      "To accept the future behavior, pass 'sort=False'.\n",
      "\n",
      "To retain the current behavior and silence the warning, pass 'sort=True'.\n",
      "\n",
      "  sort=sort,\n"
     ]
    }
   ],
   "source": [
    "destination_folder = '../Data/Processed'\n",
    "test_raw = pd.read_csv('../Data/test.csv')\n",
    "for i in range(16-len(test_raw)%16):\n",
    "    newRow = pd.DataFrame({\"id\": [-1], \"text\" : [\"NA\"]})\n",
    "    test_raw = test_raw.append(newRow)\n",
    "test_raw = test_raw.reindex(columns=['text','id'])\n",
    "test_raw.to_csv(destination_folder + '/test.csv', index=False)"
   ]
  },
  {
   "cell_type": "code",
   "execution_count": 20,
   "metadata": {},
   "outputs": [],
   "source": [
    "test_fields =[('text', text_field),('id', id_field)]\n",
    "test_data = TabularDataset(path='../Data/Processed/test.csv', fields=test_fields, format='CSV', skip_header=True)"
   ]
  },
  {
   "cell_type": "code",
   "execution_count": 21,
   "metadata": {},
   "outputs": [],
   "source": [
    "from torchtext.data import Iterator\n",
    "\n",
    "test_iter = BucketIterator(test_data, batch_size=32, sort_key=lambda x: len(x.text),\n",
    "                            device=device, sort=False, sort_within_batch=True)"
   ]
  },
  {
   "cell_type": "code",
   "execution_count": 22,
   "metadata": {},
   "outputs": [],
   "source": [
    "submission_df = evaluate_to_df(best_model, test_iter)"
   ]
  },
  {
   "cell_type": "code",
   "execution_count": 23,
   "metadata": {},
   "outputs": [],
   "source": [
    "submission_df = submission_df[submission_df['id'] != -1]\n",
    "submission_df = submission_df[['id','prediction']]\n",
    "submission_df.columns = ['id', 'target']"
   ]
  },
  {
   "cell_type": "code",
   "execution_count": 24,
   "metadata": {},
   "outputs": [
    {
     "data": {
      "text/html": [
       "<div>\n",
       "<style scoped>\n",
       "    .dataframe tbody tr th:only-of-type {\n",
       "        vertical-align: middle;\n",
       "    }\n",
       "\n",
       "    .dataframe tbody tr th {\n",
       "        vertical-align: top;\n",
       "    }\n",
       "\n",
       "    .dataframe thead th {\n",
       "        text-align: right;\n",
       "    }\n",
       "</style>\n",
       "<table border=\"1\" class=\"dataframe\">\n",
       "  <thead>\n",
       "    <tr style=\"text-align: right;\">\n",
       "      <th></th>\n",
       "      <th>id</th>\n",
       "      <th>target</th>\n",
       "    </tr>\n",
       "  </thead>\n",
       "  <tbody>\n",
       "    <tr>\n",
       "      <td>2231</td>\n",
       "      <td>0</td>\n",
       "      <td>1</td>\n",
       "    </tr>\n",
       "    <tr>\n",
       "      <td>1221</td>\n",
       "      <td>2</td>\n",
       "      <td>0</td>\n",
       "    </tr>\n",
       "    <tr>\n",
       "      <td>1606</td>\n",
       "      <td>3</td>\n",
       "      <td>0</td>\n",
       "    </tr>\n",
       "    <tr>\n",
       "      <td>2478</td>\n",
       "      <td>9</td>\n",
       "      <td>1</td>\n",
       "    </tr>\n",
       "    <tr>\n",
       "      <td>2630</td>\n",
       "      <td>11</td>\n",
       "      <td>1</td>\n",
       "    </tr>\n",
       "  </tbody>\n",
       "</table>\n",
       "</div>"
      ],
      "text/plain": [
       "      id  target\n",
       "2231   0       1\n",
       "1221   2       0\n",
       "1606   3       0\n",
       "2478   9       1\n",
       "2630  11       1"
      ]
     },
     "execution_count": 24,
     "metadata": {},
     "output_type": "execute_result"
    }
   ],
   "source": [
    "submission_df = submission_df.sort_values('id')\n",
    "submission_df.head()"
   ]
  },
  {
   "cell_type": "code",
   "execution_count": 25,
   "metadata": {},
   "outputs": [],
   "source": [
    "submission_df.to_csv('../Data/Processed/LSTM/LSTMSubmission.csv',index=False)"
   ]
  },
  {
   "cell_type": "code",
   "execution_count": null,
   "metadata": {},
   "outputs": [],
   "source": []
  }
 ],
 "metadata": {
  "kernelspec": {
   "display_name": "Python 3",
   "language": "python",
   "name": "python3"
  },
  "language_info": {
   "codemirror_mode": {
    "name": "ipython",
    "version": 3
   },
   "file_extension": ".py",
   "mimetype": "text/x-python",
   "name": "python",
   "nbconvert_exporter": "python",
   "pygments_lexer": "ipython3",
   "version": "3.7.3"
  }
 },
 "nbformat": 4,
 "nbformat_minor": 2
}
